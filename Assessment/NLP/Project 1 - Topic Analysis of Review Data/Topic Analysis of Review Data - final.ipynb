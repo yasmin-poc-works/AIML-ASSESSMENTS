{
 "cells": [
  {
   "cell_type": "markdown",
   "id": "a3f87492",
   "metadata": {},
   "source": [
    "**DESCRIPTION**\n",
    "\n",
    "Help a leading mobile brand understand the voice of the customer by analyzing the reviews of their product on Amazon and the topics that customers are talking about. You will perform topic modeling on specific parts of speech. You’ll finally interpret the emerging topics.\n"
   ]
  },
  {
   "cell_type": "markdown",
   "id": "1c6c9475",
   "metadata": {},
   "source": [
    "**Problem Statement:**\n",
    "    \n",
    "A popular mobile phone brand, Lenovo has launched their budget smartphone in the Indian market. The client wants to understand the VOC (voice of the customer) on the product. This will be useful to not just evaluate the current product, but to also get some direction for developing the product pipeline. The client is particularly interested in the different aspects that customers care about. Product reviews by customers on a leading e-commerce site should provide a good view.\n",
    "\n",
    "**Domain:** Amazon reviews for a leading phone brand\n",
    "    \n",
    "**Analysis to be done:** POS tagging, topic modeling using LDA, and topic interpretation\n",
    "    \n",
    "**Content:**\n",
    "    \n",
    "**Dataset:** ‘K8 Reviews v0.2.csv’\n",
    "    \n",
    "**Columns:**\n",
    "    \n",
    "Sentiment: The sentiment against the review (4,5 star reviews are positive, 1,2 are negative)\n",
    "    \n",
    "Reviews: The main text of the review\n",
    "    \n",
    "**Steps to perform:**\n",
    "    \n",
    "Discover the topics in the reviews and present it to business in a consumable format. Employ techniques in syntactic processing and topic modeling.\n",
    "Perform specific cleanup, POS tagging, and restricting to relevant POS tags, then, perform topic modeling using LDA. Finally, give business-friendly names to the topics and make a table for business.\n"
   ]
  },
  {
   "cell_type": "markdown",
   "id": "14cf13e3",
   "metadata": {},
   "source": [
    "# Tasks: "
   ]
  },
  {
   "cell_type": "markdown",
   "id": "3a8b373c",
   "metadata": {},
   "source": [
    "### 1.\tRead the .csv file using Pandas. Take a look at the top few records."
   ]
  },
  {
   "cell_type": "code",
   "execution_count": 1,
   "id": "a27e7fd2",
   "metadata": {},
   "outputs": [],
   "source": [
    "import warnings\n",
    "warnings.filterwarnings('ignore')\n",
    "\n",
    "import numpy  as np\n",
    "import pandas as pd\n",
    "import re\n",
    "import random\n",
    "import os\n",
    "import string\n",
    "\n",
    "from pprint import pprint #pretty print\n",
    "import matplotlib.pyplot as plt\n",
    "%matplotlib inline\n",
    "\n",
    "from nltk.tokenize import word_tokenize\n",
    "from nltk.stem import WordNetLemmatizer"
   ]
  },
  {
   "cell_type": "code",
   "execution_count": 2,
   "id": "01eec4a9",
   "metadata": {},
   "outputs": [
    {
     "data": {
      "text/html": [
       "<div>\n",
       "<style scoped>\n",
       "    .dataframe tbody tr th:only-of-type {\n",
       "        vertical-align: middle;\n",
       "    }\n",
       "\n",
       "    .dataframe tbody tr th {\n",
       "        vertical-align: top;\n",
       "    }\n",
       "\n",
       "    .dataframe thead th {\n",
       "        text-align: right;\n",
       "    }\n",
       "</style>\n",
       "<table border=\"1\" class=\"dataframe\">\n",
       "  <thead>\n",
       "    <tr style=\"text-align: right;\">\n",
       "      <th></th>\n",
       "      <th>sentiment</th>\n",
       "      <th>review</th>\n",
       "    </tr>\n",
       "  </thead>\n",
       "  <tbody>\n",
       "    <tr>\n",
       "      <th>0</th>\n",
       "      <td>1</td>\n",
       "      <td>Good but need updates and improvements</td>\n",
       "    </tr>\n",
       "    <tr>\n",
       "      <th>1</th>\n",
       "      <td>0</td>\n",
       "      <td>Worst mobile i have bought ever, Battery is dr...</td>\n",
       "    </tr>\n",
       "    <tr>\n",
       "      <th>2</th>\n",
       "      <td>1</td>\n",
       "      <td>when I will get my 10% cash back.... its alrea...</td>\n",
       "    </tr>\n",
       "    <tr>\n",
       "      <th>3</th>\n",
       "      <td>1</td>\n",
       "      <td>Good</td>\n",
       "    </tr>\n",
       "    <tr>\n",
       "      <th>4</th>\n",
       "      <td>0</td>\n",
       "      <td>The worst phone everThey have changed the last...</td>\n",
       "    </tr>\n",
       "  </tbody>\n",
       "</table>\n",
       "</div>"
      ],
      "text/plain": [
       "   sentiment                                             review\n",
       "0          1             Good but need updates and improvements\n",
       "1          0  Worst mobile i have bought ever, Battery is dr...\n",
       "2          1  when I will get my 10% cash back.... its alrea...\n",
       "3          1                                               Good\n",
       "4          0  The worst phone everThey have changed the last..."
      ]
     },
     "execution_count": 2,
     "metadata": {},
     "output_type": "execute_result"
    }
   ],
   "source": [
    "reviews = pd.read_csv(r'D:\\1. AIML, projects\\6. PG AI - Natural Language Processing and Speech Recognition\\0. Assessments\\Project 1 - Topic Analysis of Review Data\\K8 Reviews v0.2.csv')\n",
    "reviews.head()"
   ]
  },
  {
   "cell_type": "markdown",
   "id": "f8120c66",
   "metadata": {},
   "source": [
    "## 2.\tNormalize casings for the review text and extract the text into a list for easier manipulation."
   ]
  },
  {
   "cell_type": "code",
   "execution_count": 3,
   "id": "08df334f",
   "metadata": {},
   "outputs": [
    {
     "data": {
      "text/plain": [
       "'good but need updates and improvements'"
      ]
     },
     "execution_count": 3,
     "metadata": {},
     "output_type": "execute_result"
    }
   ],
   "source": [
    "normalized_reviews = [rev.lower() for rev in reviews['review'].values]\n",
    "    \n",
    "normalized_reviews[0]"
   ]
  },
  {
   "cell_type": "markdown",
   "id": "b28b4e49",
   "metadata": {},
   "source": [
    "## 3.\tTokenize the reviews using NLTKs word_tokenize function."
   ]
  },
  {
   "cell_type": "code",
   "execution_count": 4,
   "id": "bbbe06ad",
   "metadata": {},
   "outputs": [
    {
     "name": "stdout",
     "output_type": "stream",
     "text": [
      "['good', 'but', 'need', 'updates', 'and', 'improvements']\n"
     ]
    }
   ],
   "source": [
    "reviews_token = [word_tokenize(token) for token in normalized_reviews]\n",
    "print(reviews_token[0])"
   ]
  },
  {
   "cell_type": "code",
   "execution_count": 5,
   "id": "6eb6a0a4",
   "metadata": {},
   "outputs": [
    {
     "data": {
      "text/plain": [
       "14675"
      ]
     },
     "execution_count": 5,
     "metadata": {},
     "output_type": "execute_result"
    }
   ],
   "source": [
    "len(reviews_token)"
   ]
  },
  {
   "cell_type": "markdown",
   "id": "eba9526d",
   "metadata": {},
   "source": [
    "## 4.\tPerform parts-of-speech tagging on each sentence using the NLTK POS tagger."
   ]
  },
  {
   "cell_type": "code",
   "execution_count": 9,
   "id": "18055352",
   "metadata": {},
   "outputs": [],
   "source": [
    "import nltk"
   ]
  },
  {
   "cell_type": "code",
   "execution_count": 11,
   "id": "52d44692",
   "metadata": {},
   "outputs": [
    {
     "data": {
      "text/plain": [
       "[('good', 'JJ'),\n",
       " ('but', 'CC'),\n",
       " ('need', 'VBP'),\n",
       " ('updates', 'NNS'),\n",
       " ('and', 'CC'),\n",
       " ('improvements', 'NNS')]"
      ]
     },
     "execution_count": 11,
     "metadata": {},
     "output_type": "execute_result"
    }
   ],
   "source": [
    "nltk.pos_tag(reviews_token[0])"
   ]
  },
  {
   "cell_type": "code",
   "execution_count": 12,
   "id": "5c2500f9",
   "metadata": {},
   "outputs": [],
   "source": [
    "sent = 'I like to move it'.split()\n",
    "sent_tagged = nltk.pos_tag(sent)"
   ]
  },
  {
   "cell_type": "code",
   "execution_count": 13,
   "id": "a8bb4f64",
   "metadata": {},
   "outputs": [
    {
     "data": {
      "text/plain": [
       "[('I', 'PRP'), ('like', 'VBP'), ('to', 'TO'), ('move', 'VB'), ('it', 'PRP')]"
      ]
     },
     "execution_count": 13,
     "metadata": {},
     "output_type": "execute_result"
    }
   ],
   "source": [
    "sent_tagged"
   ]
  },
  {
   "cell_type": "code",
   "execution_count": 14,
   "id": "aa85d7c3",
   "metadata": {},
   "outputs": [
    {
     "data": {
      "text/plain": [
       "[('good', 'JJ'),\n",
       " ('but', 'CC'),\n",
       " ('need', 'VBP'),\n",
       " ('updates', 'NNS'),\n",
       " ('and', 'CC'),\n",
       " ('improvements', 'NNS')]"
      ]
     },
     "execution_count": 14,
     "metadata": {},
     "output_type": "execute_result"
    }
   ],
   "source": [
    "reviews_pos = [nltk.pos_tag(word) for word in reviews_token]\n",
    "reviews_pos[0]"
   ]
  },
  {
   "cell_type": "code",
   "execution_count": 15,
   "id": "f1780835",
   "metadata": {},
   "outputs": [
    {
     "data": {
      "text/plain": [
       "14675"
      ]
     },
     "execution_count": 15,
     "metadata": {},
     "output_type": "execute_result"
    }
   ],
   "source": [
    "len(reviews_pos)"
   ]
  },
  {
   "cell_type": "markdown",
   "id": "11806f1e",
   "metadata": {},
   "source": [
    "## 5.\tFor the topic model, we should  want to include only nouns.\n",
    "\n",
    "    1.\tFind out all the POS tags that correspond to nouns.\n",
    "    \n",
    "    2.\tLimit the data to only terms with these tags.\n"
   ]
  },
  {
   "cell_type": "code",
   "execution_count": 17,
   "id": "29057b4e",
   "metadata": {},
   "outputs": [
    {
     "name": "stderr",
     "output_type": "stream",
     "text": [
      "[nltk_data] Downloading package tagsets to\n",
      "[nltk_data]     C:\\Users\\yas88\\AppData\\Roaming\\nltk_data...\n",
      "[nltk_data]   Unzipping help\\tagsets.zip.\n"
     ]
    },
    {
     "data": {
      "text/plain": [
       "True"
      ]
     },
     "execution_count": 17,
     "metadata": {},
     "output_type": "execute_result"
    }
   ],
   "source": [
    "nltk.download('tagsets')"
   ]
  },
  {
   "cell_type": "code",
   "execution_count": 18,
   "id": "7b29fd2f",
   "metadata": {},
   "outputs": [
    {
     "name": "stdout",
     "output_type": "stream",
     "text": [
      "$: dollar\n",
      "    $ -$ --$ A$ C$ HK$ M$ NZ$ S$ U.S.$ US$\n",
      "'': closing quotation mark\n",
      "    ' ''\n",
      "(: opening parenthesis\n",
      "    ( [ {\n",
      "): closing parenthesis\n",
      "    ) ] }\n",
      ",: comma\n",
      "    ,\n",
      "--: dash\n",
      "    --\n",
      ".: sentence terminator\n",
      "    . ! ?\n",
      ":: colon or ellipsis\n",
      "    : ; ...\n",
      "CC: conjunction, coordinating\n",
      "    & 'n and both but either et for less minus neither nor or plus so\n",
      "    therefore times v. versus vs. whether yet\n",
      "CD: numeral, cardinal\n",
      "    mid-1890 nine-thirty forty-two one-tenth ten million 0.5 one forty-\n",
      "    seven 1987 twenty '79 zero two 78-degrees eighty-four IX '60s .025\n",
      "    fifteen 271,124 dozen quintillion DM2,000 ...\n",
      "DT: determiner\n",
      "    all an another any both del each either every half la many much nary\n",
      "    neither no some such that the them these this those\n",
      "EX: existential there\n",
      "    there\n",
      "FW: foreign word\n",
      "    gemeinschaft hund ich jeux habeas Haementeria Herr K'ang-si vous\n",
      "    lutihaw alai je jour objets salutaris fille quibusdam pas trop Monte\n",
      "    terram fiche oui corporis ...\n",
      "IN: preposition or conjunction, subordinating\n",
      "    astride among uppon whether out inside pro despite on by throughout\n",
      "    below within for towards near behind atop around if like until below\n",
      "    next into if beside ...\n",
      "JJ: adjective or numeral, ordinal\n",
      "    third ill-mannered pre-war regrettable oiled calamitous first separable\n",
      "    ectoplasmic battery-powered participatory fourth still-to-be-named\n",
      "    multilingual multi-disciplinary ...\n",
      "JJR: adjective, comparative\n",
      "    bleaker braver breezier briefer brighter brisker broader bumper busier\n",
      "    calmer cheaper choosier cleaner clearer closer colder commoner costlier\n",
      "    cozier creamier crunchier cuter ...\n",
      "JJS: adjective, superlative\n",
      "    calmest cheapest choicest classiest cleanest clearest closest commonest\n",
      "    corniest costliest crassest creepiest crudest cutest darkest deadliest\n",
      "    dearest deepest densest dinkiest ...\n",
      "LS: list item marker\n",
      "    A A. B B. C C. D E F First G H I J K One SP-44001 SP-44002 SP-44005\n",
      "    SP-44007 Second Third Three Two * a b c d first five four one six three\n",
      "    two\n",
      "MD: modal auxiliary\n",
      "    can cannot could couldn't dare may might must need ought shall should\n",
      "    shouldn't will would\n",
      "NN: noun, common, singular or mass\n",
      "    common-carrier cabbage knuckle-duster Casino afghan shed thermostat\n",
      "    investment slide humour falloff slick wind hyena override subhumanity\n",
      "    machinist ...\n",
      "NNP: noun, proper, singular\n",
      "    Motown Venneboerger Czestochwa Ranzer Conchita Trumplane Christos\n",
      "    Oceanside Escobar Kreisler Sawyer Cougar Yvette Ervin ODI Darryl CTCA\n",
      "    Shannon A.K.C. Meltex Liverpool ...\n",
      "NNPS: noun, proper, plural\n",
      "    Americans Americas Amharas Amityvilles Amusements Anarcho-Syndicalists\n",
      "    Andalusians Andes Andruses Angels Animals Anthony Antilles Antiques\n",
      "    Apache Apaches Apocrypha ...\n",
      "NNS: noun, common, plural\n",
      "    undergraduates scotches bric-a-brac products bodyguards facets coasts\n",
      "    divestitures storehouses designs clubs fragrances averages\n",
      "    subjectivists apprehensions muses factory-jobs ...\n",
      "PDT: pre-determiner\n",
      "    all both half many quite such sure this\n",
      "POS: genitive marker\n",
      "    ' 's\n",
      "PRP: pronoun, personal\n",
      "    hers herself him himself hisself it itself me myself one oneself ours\n",
      "    ourselves ownself self she thee theirs them themselves they thou thy us\n",
      "PRP$: pronoun, possessive\n",
      "    her his mine my our ours their thy your\n",
      "RB: adverb\n",
      "    occasionally unabatingly maddeningly adventurously professedly\n",
      "    stirringly prominently technologically magisterially predominately\n",
      "    swiftly fiscally pitilessly ...\n",
      "RBR: adverb, comparative\n",
      "    further gloomier grander graver greater grimmer harder harsher\n",
      "    healthier heavier higher however larger later leaner lengthier less-\n",
      "    perfectly lesser lonelier longer louder lower more ...\n",
      "RBS: adverb, superlative\n",
      "    best biggest bluntest earliest farthest first furthest hardest\n",
      "    heartiest highest largest least less most nearest second tightest worst\n",
      "RP: particle\n",
      "    aboard about across along apart around aside at away back before behind\n",
      "    by crop down ever fast for forth from go high i.e. in into just later\n",
      "    low more off on open out over per pie raising start teeth that through\n",
      "    under unto up up-pp upon whole with you\n",
      "SYM: symbol\n",
      "    % & ' '' ''. ) ). * + ,. < = > @ A[fj] U.S U.S.S.R * ** ***\n",
      "TO: \"to\" as preposition or infinitive marker\n",
      "    to\n",
      "UH: interjection\n",
      "    Goodbye Goody Gosh Wow Jeepers Jee-sus Hubba Hey Kee-reist Oops amen\n",
      "    huh howdy uh dammit whammo shucks heck anyways whodunnit honey golly\n",
      "    man baby diddle hush sonuvabitch ...\n",
      "VB: verb, base form\n",
      "    ask assemble assess assign assume atone attention avoid bake balkanize\n",
      "    bank begin behold believe bend benefit bevel beware bless boil bomb\n",
      "    boost brace break bring broil brush build ...\n",
      "VBD: verb, past tense\n",
      "    dipped pleaded swiped regummed soaked tidied convened halted registered\n",
      "    cushioned exacted snubbed strode aimed adopted belied figgered\n",
      "    speculated wore appreciated contemplated ...\n",
      "VBG: verb, present participle or gerund\n",
      "    telegraphing stirring focusing angering judging stalling lactating\n",
      "    hankerin' alleging veering capping approaching traveling besieging\n",
      "    encrypting interrupting erasing wincing ...\n",
      "VBN: verb, past participle\n",
      "    multihulled dilapidated aerosolized chaired languished panelized used\n",
      "    experimented flourished imitated reunifed factored condensed sheared\n",
      "    unsettled primed dubbed desired ...\n",
      "VBP: verb, present tense, not 3rd person singular\n",
      "    predominate wrap resort sue twist spill cure lengthen brush terminate\n",
      "    appear tend stray glisten obtain comprise detest tease attract\n",
      "    emphasize mold postpone sever return wag ...\n",
      "VBZ: verb, present tense, 3rd person singular\n",
      "    bases reconstructs marks mixes displeases seals carps weaves snatches\n",
      "    slumps stretches authorizes smolders pictures emerges stockpiles\n",
      "    seduces fizzes uses bolsters slaps speaks pleads ...\n",
      "WDT: WH-determiner\n",
      "    that what whatever which whichever\n",
      "WP: WH-pronoun\n",
      "    that what whatever whatsoever which who whom whosoever\n",
      "WP$: WH-pronoun, possessive\n",
      "    whose\n",
      "WRB: Wh-adverb\n",
      "    how however whence whenever where whereby whereever wherein whereof why\n",
      "``: opening quotation mark\n",
      "    ` ``\n"
     ]
    }
   ],
   "source": [
    "nltk.help.upenn_tagset()"
   ]
  },
  {
   "cell_type": "code",
   "execution_count": 23,
   "id": "a20231c9",
   "metadata": {},
   "outputs": [
    {
     "data": {
      "text/plain": [
       "('great', 'JJ')"
      ]
     },
     "execution_count": 23,
     "metadata": {},
     "output_type": "execute_result"
    }
   ],
   "source": [
    "tagged_tuple = nltk.pos_tag(['great'])\n",
    "tagged_tuple[0]"
   ]
  },
  {
   "cell_type": "code",
   "execution_count": 25,
   "id": "f8b4e545",
   "metadata": {},
   "outputs": [
    {
     "name": "stdout",
     "output_type": "stream",
     "text": [
      "'great'\n",
      "'JJ'\n"
     ]
    }
   ],
   "source": [
    "pprint(tagged_tuple[0][0])\n",
    "pprint(tagged_tuple[0][1])"
   ]
  },
  {
   "cell_type": "code",
   "execution_count": 26,
   "id": "c95a0347",
   "metadata": {},
   "outputs": [
    {
     "data": {
      "text/plain": [
       "[('updates', 'NNS'), ('improvements', 'NNS')]"
      ]
     },
     "execution_count": 26,
     "metadata": {},
     "output_type": "execute_result"
    }
   ],
   "source": [
    "reviews_noun = []\n",
    "\n",
    "for sent in reviews_pos:\n",
    "    reviews_noun.append([term for term in sent if re.search('NN.*', term[1])])\n",
    "reviews_noun[0]\n",
    "    "
   ]
  },
  {
   "cell_type": "code",
   "execution_count": 30,
   "id": "c2576516",
   "metadata": {},
   "outputs": [
    {
     "name": "stdout",
     "output_type": "stream",
     "text": [
      "[[('performance', 'NN'), ('rm', 'NNS'), ('memory', 'NN')],\n",
      " [('superb', 'NN'), ('featurs', 'NNS'), ('battery', 'NN'), ('phone😍😍', 'NN')],\n",
      " [('value', 'NN'), ('money', 'NN')],\n",
      " [],\n",
      " [('lenovo', 'NN'), ('k8', 'NN')],\n",
      " [('problem', 'NN'),\n",
      "  ('speaker', 'NN'),\n",
      "  ('breakups', 'NNS'),\n",
      "  ('problem', 'NN'),\n",
      "  ('hour', 'NN')],\n",
      " [('phone', 'NN'), ('heating', 'NN'), ('problem', 'NN'), ('choice', 'NN')],\n",
      " [('battery', 'NN'), ('standby', 'NN'), ('problem', 'NN')],\n",
      " [('battery', 'NN'),\n",
      "  ('camera', 'NN'),\n",
      "  ('jet', 'NN'),\n",
      "  ('speed', 'NN'),\n",
      "  ('apps.👌👌', 'NN')],\n",
      " [('product', 'NN')]]\n"
     ]
    }
   ],
   "source": [
    "pprint(reviews_noun[50:60])"
   ]
  },
  {
   "cell_type": "markdown",
   "id": "5a9af4ef",
   "metadata": {},
   "source": [
    "## 6.\tLemmatize. \n",
    "\n",
    "1.\tDifferent forms of the terms need to be treated as one.\n",
    "\n",
    "2.\tNo need to provide POS tag to lemmatizer for now.\n"
   ]
  },
  {
   "cell_type": "code",
   "execution_count": 32,
   "id": "5bed6de7",
   "metadata": {},
   "outputs": [],
   "source": [
    "lemm = WordNetLemmatizer()\n",
    "reviews_lemm = []\n",
    "for sent in reviews_noun:\n",
    "    reviews_lemm.append([lemm.lemmatize(word[0]) for word in sent])"
   ]
  },
  {
   "cell_type": "code",
   "execution_count": 33,
   "id": "3b405487",
   "metadata": {},
   "outputs": [
    {
     "data": {
      "text/plain": [
       "['update', 'improvement']"
      ]
     },
     "execution_count": 33,
     "metadata": {},
     "output_type": "execute_result"
    }
   ],
   "source": [
    "reviews_lemm[0]"
   ]
  },
  {
   "cell_type": "markdown",
   "id": "dec0669e",
   "metadata": {},
   "source": [
    "## 7.\tRemove stopwords and punctuation (if there are any). "
   ]
  },
  {
   "cell_type": "code",
   "execution_count": 35,
   "id": "648fec90",
   "metadata": {},
   "outputs": [],
   "source": [
    "from nltk.corpus import stopwords\n",
    "from string import punctuation"
   ]
  },
  {
   "cell_type": "code",
   "execution_count": 36,
   "id": "d1f9f3c3",
   "metadata": {},
   "outputs": [],
   "source": [
    "stop_words = stopwords.words('english')\n",
    "stop_punc = list(punctuation)\n",
    "stop_final = stop_words+stop_punc+['...']+['..']\n"
   ]
  },
  {
   "cell_type": "code",
   "execution_count": 37,
   "id": "928bce7e",
   "metadata": {},
   "outputs": [
    {
     "data": {
      "text/plain": [
       "213"
      ]
     },
     "execution_count": 37,
     "metadata": {},
     "output_type": "execute_result"
    }
   ],
   "source": [
    "len(stop_final)"
   ]
  },
  {
   "cell_type": "code",
   "execution_count": 38,
   "id": "fa4f510d",
   "metadata": {},
   "outputs": [],
   "source": [
    "reviews_sw_removed = []\n",
    "for sent in reviews_lemm:\n",
    "    reviews_sw_removed.append([term for term in sent if term not in stop_final])"
   ]
  },
  {
   "cell_type": "code",
   "execution_count": 40,
   "id": "a7123c1a",
   "metadata": {},
   "outputs": [
    {
     "data": {
      "text/plain": [
       "['mobile',\n",
       " 'battery',\n",
       " 'hell',\n",
       " 'backup',\n",
       " 'hour',\n",
       " 'us',\n",
       " 'idle',\n",
       " 'discharged.this',\n",
       " 'lie',\n",
       " 'amazon',\n",
       " 'lenove',\n",
       " 'battery',\n",
       " 'charger',\n",
       " 'hour']"
      ]
     },
     "execution_count": 40,
     "metadata": {},
     "output_type": "execute_result"
    }
   ],
   "source": [
    "reviews_sw_removed[1]"
   ]
  },
  {
   "cell_type": "code",
   "execution_count": 41,
   "id": "e90ddfc8",
   "metadata": {},
   "outputs": [
    {
     "data": {
      "text/plain": [
       "14675"
      ]
     },
     "execution_count": 41,
     "metadata": {},
     "output_type": "execute_result"
    }
   ],
   "source": [
    "len(reviews_sw_removed)"
   ]
  },
  {
   "cell_type": "markdown",
   "id": "e66bbd26",
   "metadata": {},
   "source": [
    "## 8.\tCreate a topic model using LDA on the cleaned up data with 12 topics.\n",
    "1.\tPrint out the top terms for each topic.\n",
    "2.\tWhat is the coherence of the model with the c_v metric?\n"
   ]
  },
  {
   "cell_type": "code",
   "execution_count": 42,
   "id": "66ae9cb9",
   "metadata": {},
   "outputs": [],
   "source": [
    "import gensim\n",
    "import gensim.corpora as corpora\n",
    "from gensim.models import CoherenceModel\n",
    "from gensim.models import ldamodel"
   ]
  },
  {
   "cell_type": "code",
   "execution_count": 43,
   "id": "6105f862",
   "metadata": {},
   "outputs": [],
   "source": [
    "id2word = corpora.Dictionary(reviews_sw_removed)\n",
    "texts = reviews_sw_removed\n",
    "corpus = [id2word.doc2bow(text) for text in texts]"
   ]
  },
  {
   "cell_type": "code",
   "execution_count": 44,
   "id": "571c2c7e",
   "metadata": {},
   "outputs": [
    {
     "name": "stdout",
     "output_type": "stream",
     "text": [
      "[(36, 1), (143, 1), (314, 1), (415, 1), (416, 1)]\n"
     ]
    }
   ],
   "source": [
    "print(corpus[200])"
   ]
  },
  {
   "cell_type": "code",
   "execution_count": 45,
   "id": "65b5b139",
   "metadata": {},
   "outputs": [],
   "source": [
    "lda_model = gensim.models.ldamodel.LdaModel(corpus=corpus, \n",
    "                                            num_topics=12, \n",
    "                                            id2word=id2word,\n",
    "                                            random_state=42,\n",
    "                                            passes=10, \n",
    "                                            per_word_topics=True)\n"
   ]
  },
  {
   "cell_type": "code",
   "execution_count": 47,
   "id": "de443c99",
   "metadata": {},
   "outputs": [
    {
     "name": "stdout",
     "output_type": "stream",
     "text": [
      "[(0,\n",
      "  '0.167*\"mobile\" + 0.049*\"screen\" + 0.034*\"call\" + 0.028*\"option\" + '\n",
      "  '0.028*\"video\" + 0.025*\"feature\" + 0.019*\"music\" + 0.018*\"app\" + '\n",
      "  '0.017*\"cast\" + 0.016*\"sensor\"'),\n",
      " (1,\n",
      "  '0.066*\"delivery\" + 0.050*\"superb\" + 0.050*\"glass\" + 0.048*\"h\" + '\n",
      "  '0.031*\"device\" + 0.030*\"thanks\" + 0.027*\"super\" + 0.026*\"slot\" + '\n",
      "  '0.026*\"gorilla\" + 0.024*\"card\"'),\n",
      " (2,\n",
      "  '0.151*\"note\" + 0.094*\"lenovo\" + 0.078*\"k8\" + 0.017*\"device\" + 0.015*\"model\" '\n",
      "  '+ 0.015*\"system\" + 0.012*\"atmos\" + 0.011*\"version\" + 0.010*\"power\" + '\n",
      "  '0.010*\"k4\"'),\n",
      " (3,\n",
      "  '0.230*\"problem\" + 0.117*\"....\" + 0.107*\"heating\" + 0.097*\"performance\" + '\n",
      "  '0.088*\"battery\" + 0.049*\".....\" + 0.022*\"issue\" + 0.016*\"hang\" + '\n",
      "  '0.013*\"awesome\" + 0.011*\"cell\"'),\n",
      " (4,\n",
      "  '0.188*\"battery\" + 0.077*\"phone\" + 0.046*\"charger\" + 0.044*\"hour\" + '\n",
      "  '0.036*\"backup\" + 0.035*\"heat\" + 0.035*\"day\" + 0.034*\"life\" + 0.031*\"charge\" '\n",
      "  '+ 0.023*\"hai\"'),\n",
      " (5,\n",
      "  '0.122*\"price\" + 0.104*\"money\" + 0.062*\"value\" + 0.058*\"handset\" + '\n",
      "  '0.045*\"range\" + 0.043*\"feature\" + 0.034*\"mobile\" + 0.028*\"please\" + '\n",
      "  '0.021*\"pls\" + 0.018*\"experience\"'),\n",
      " (6,\n",
      "  '0.098*\"speaker\" + 0.074*\"sound\" + 0.071*\"display\" + 0.040*\"work\" + '\n",
      "  '0.028*\"month\" + 0.025*\"set\" + 0.024*\"volume\" + 0.020*\"class\" + '\n",
      "  '0.019*\"purchase\" + 0.017*\"voice\"'),\n",
      " (7,\n",
      "  '0.311*\"phone\" + 0.081*\"camera\" + 0.033*\"price\" + 0.026*\"performance\" + '\n",
      "  '0.023*\"feature\" + 0.020*\"mode\" + 0.017*\"processor\" + 0.014*\"range\" + '\n",
      "  '0.013*\"budget\" + 0.012*\"depth\"'),\n",
      " (8,\n",
      "  '0.303*\"camera\" + 0.197*\"quality\" + 0.078*\"battery\" + 0.035*\"everything\" + '\n",
      "  '0.025*\"mark\" + 0.024*\"backup\" + 0.023*\"clarity\" + 0.019*\"expectation\" + '\n",
      "  '0.019*\"smartphone\" + 0.015*\"photo\"'),\n",
      " (9,\n",
      "  '0.136*\"issue\" + 0.091*\"phone\" + 0.046*\"network\" + 0.044*\"update\" + '\n",
      "  '0.037*\"software\" + 0.029*\"lot\" + 0.023*\"time\" + 0.020*\"battery\" + '\n",
      "  '0.018*\"star\" + 0.015*\"review\"'),\n",
      " (10,\n",
      "  '0.102*\"phone\" + 0.054*\"service\" + 0.052*\"amazon\" + 0.031*\"day\" + '\n",
      "  '0.030*\"problem\" + 0.029*\"time\" + 0.023*\"sim\" + 0.023*\"customer\" + '\n",
      "  '0.021*\"call\" + 0.021*\"replacement\"'),\n",
      " (11,\n",
      "  '0.477*\"product\" + 0.057*\"waste\" + 0.049*\"money\" + 0.022*\"worth\" + '\n",
      "  '0.020*\"headphone\" + 0.020*\"excellent\" + 0.017*\"plz\" + 0.015*\"amazon\" + '\n",
      "  '0.014*\"item\" + 0.012*\"result\"')]\n"
     ]
    }
   ],
   "source": [
    "pprint(lda_model.print_topics())"
   ]
  },
  {
   "cell_type": "code",
   "execution_count": 48,
   "id": "32871e4f",
   "metadata": {},
   "outputs": [
    {
     "name": "stdout",
     "output_type": "stream",
     "text": [
      "\n",
      "Coherance score:  0.5417601670589517\n"
     ]
    }
   ],
   "source": [
    "# Compute Coherence Score\n",
    "coherance_model_lda = CoherenceModel(model=lda_model, texts=reviews_sw_removed,dictionary=id2word, coherence='c_v')\n",
    "coherence_lda = coherance_model_lda.get_coherence()\n",
    "print('\\nCoherance score: ', coherence_lda)"
   ]
  },
  {
   "cell_type": "markdown",
   "id": "79e1b12f",
   "metadata": {},
   "source": [
    "## 9.\tAnalyze the topics through the business lens.\n",
    "1.\tDetermine which of the topics can be combined.\n"
   ]
  },
  {
   "cell_type": "markdown",
   "id": "e42320eb",
   "metadata": {},
   "source": [
    "### Looking at the topics and each terms following can be combined -\n",
    "**Topic 2 and 5 possibly talks about 'pricing'**\n",
    "\n",
    "**Topic 4, 6 and 10 closely talks about 'battery related issues'**\n",
    "\n",
    "**Topic 3 and 11 vaguely talks about 'performance'**"
   ]
  },
  {
   "cell_type": "markdown",
   "id": "48342adb",
   "metadata": {},
   "source": [
    "## 10.\tCreate topic model using LDA with what you think is the optimal number of topics\n",
    "1.\tWhat is the coherence of the model?\n"
   ]
  },
  {
   "cell_type": "code",
   "execution_count": 51,
   "id": "534501b4",
   "metadata": {},
   "outputs": [],
   "source": [
    "# Build LDA model\n",
    "lda_model8 = gensim.models.ldamodel.LdaModel(corpus=corpus,\n",
    "                                             id2word=id2word,\n",
    "                                            num_topics=8, \n",
    "                                           random_state=135,\n",
    "                                           passes=10,\n",
    "                                           per_word_topics=True)"
   ]
  },
  {
   "cell_type": "markdown",
   "id": "2effd4ee",
   "metadata": {},
   "source": [
    "Printing the coherence of the model"
   ]
  },
  {
   "cell_type": "code",
   "execution_count": 52,
   "id": "3ff9f3d6",
   "metadata": {},
   "outputs": [
    {
     "name": "stdout",
     "output_type": "stream",
     "text": [
      "\n",
      "Coherence Score:  0.5937378003262871\n"
     ]
    }
   ],
   "source": [
    "# Compute Coherence Score\n",
    "coherence_model_lda = CoherenceModel(model=lda_model8, texts=reviews_sw_removed, dictionary=id2word, coherence='c_v')\n",
    "coherence_lda = coherence_model_lda.get_coherence()\n",
    "print('\\nCoherence Score: ', coherence_lda)"
   ]
  },
  {
   "cell_type": "markdown",
   "id": "4a0513e3",
   "metadata": {},
   "source": [
    "## 11.\tThe business should  be able to interpret the topics.\n",
    "1.\tName each of the identified topics.\n",
    "2.\tCreate a table with the topic name and the top 10 terms in each to present to the  business.\n"
   ]
  },
  {
   "cell_type": "code",
   "execution_count": 53,
   "id": "3720abde",
   "metadata": {},
   "outputs": [],
   "source": [
    "x = lda_model8.show_topics(formatted=False)\n",
    "topics_words = [(tp[0], [wd[0] for wd in tp[1]]) for tp in x]\n"
   ]
  },
  {
   "cell_type": "code",
   "execution_count": 54,
   "id": "10deb722",
   "metadata": {},
   "outputs": [
    {
     "name": "stdout",
     "output_type": "stream",
     "text": [
      "0::['issue', 'problem', 'phone', 'heating', 'network', 'update', 'heat', 'software', 'sim', 'time']\n",
      "1::['phone', 'service', 'amazon', 'time', 'charger', 'day', 'month', 'lenovo', 'feature', 'budget']\n",
      "2::['note', 'k8', 'lenovo', 'phone', 'processor', 'device', 'camera', 'android', 'stock', 'sound']\n",
      "3::['camera', 'quality', 'phone', 'mode', 'performance', 'hai', 'h', 'display', 'depth', 'picture']\n",
      "4::['mobile', 'screen', 'speaker', 'call', 'option', 'feature', 'glass', 'app', 'cast', 'video']\n",
      "5::['price', 'range', 'performance', 'delivery', 'everything', 'smartphone', 'headphone', 'super', 'feature', 'ok']\n",
      "6::['battery', 'backup', 'camera', 'hour', 'day', 'life', 'mobile', 'performance', 'time', 'charge']\n",
      "7::['product', '....', 'money', 'waste', '.....', 'amazon', 'return', 'worth', 'replacement', 'pls']\n",
      "\n"
     ]
    }
   ],
   "source": [
    "for topic, words in topics_words:\n",
    "    print(str(topic)+'::'+str(words))\n",
    "print()"
   ]
  },
  {
   "cell_type": "code",
   "execution_count": null,
   "id": "2e9ef01c",
   "metadata": {},
   "outputs": [],
   "source": [
    "#possible topics from terms present\n",
    "\n",
    "#Topic1 = product related issue\n",
    "#Topic2 = product waranty\n",
    "#Topic3 = amazon\n",
    "#Topic4 = camera quality\n",
    "#Topic5 = overall general phone features\n",
    "#Topic6 = Pricing\n",
    "#Topic7 = battery related issues\n",
    "#Topic8 = overall general issue  "
   ]
  }
 ],
 "metadata": {
  "kernelspec": {
   "display_name": "Python 3 (ipykernel)",
   "language": "python",
   "name": "python3"
  },
  "language_info": {
   "codemirror_mode": {
    "name": "ipython",
    "version": 3
   },
   "file_extension": ".py",
   "mimetype": "text/x-python",
   "name": "python",
   "nbconvert_exporter": "python",
   "pygments_lexer": "ipython3",
   "version": "3.8.11"
  }
 },
 "nbformat": 4,
 "nbformat_minor": 5
}
