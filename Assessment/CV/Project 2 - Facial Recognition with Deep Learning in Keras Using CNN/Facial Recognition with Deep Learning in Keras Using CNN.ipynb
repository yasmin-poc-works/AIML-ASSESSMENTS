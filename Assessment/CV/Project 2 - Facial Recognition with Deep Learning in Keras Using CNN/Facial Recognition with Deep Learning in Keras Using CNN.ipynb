{
 "cells": [
  {
   "cell_type": "markdown",
   "id": "f833e758",
   "metadata": {},
   "source": [
    "# Perform Facial Recognition with Deep Learning in Keras Using CNN"
   ]
  },
  {
   "cell_type": "markdown",
   "id": "cd0b4c58",
   "metadata": {},
   "source": [
    "DESCRIPTION\n",
    "\n",
    "Problem Statement:\n",
    "Facial recognition is a biometric alternative that measures unique characteristics of a human\n",
    "face. Applications available today include flight check in, tagging friends and family members in\n",
    "photos, and “tailored” advertising. You are a computer vision engineer who needs to develop a\n",
    "face recognition programme with deep convolutional neural networks.\n",
    "Objective: Use a deep convolutional neural network to perform facial recognition using Keras.\n",
    "Dataset Details:\n",
    "ORL face database composed of 400 images of size 112 x 92. There are 40 people, 10 images\n",
    "per person. The images were taken at different times, lighting and facial expressions. The faces\n",
    "are in an upright position in frontal view, with a slight left-right rotation.\n",
    "Link to the Dataset: https://www.dropbox.com/s/i7uzp5yxk7wruva/ORL_faces.npz?dl=0\n",
    "Prerequisites:\n",
    "Keras\n",
    "Scikit Learn\n",
    "Steps to be followed:\n",
    "1. Input the required libraries\n",
    "2. Load the dataset after loading the dataset, you have to normalize every image.\n",
    "3. Split the dataset\n",
    "4. Transform the images to equal sizes to feed in CNN\n",
    "5. Build a CNN model that has 3 main layers:\n",
    "\n",
    "i. Convolutional Layer\n",
    "ii. Pooling Layer\n",
    "iii. Fully Connected Layer\n",
    "\n",
    "6. Train the model\n",
    "7. Plot the result\n",
    "8. Iterate the model until the accuracy is above 90%"
   ]
  },
  {
   "cell_type": "code",
   "execution_count": 2,
   "id": "93229442",
   "metadata": {},
   "outputs": [
    {
     "name": "stdout",
     "output_type": "stream",
     "text": [
      "Requirement already satisfied: numpy in /usr/local/lib/python3.7/site-packages (1.18.5)\n",
      "\u001b[33mWARNING: Running pip as root will break packages and permissions. You should install packages reliably by using venv: https://pip.pypa.io/warnings/venv\u001b[0m\n",
      "\u001b[33mWARNING: You are using pip version 21.1.1; however, version 21.3.1 is available.\n",
      "You should consider upgrading via the '/usr/local/bin/python3.7 -m pip install --upgrade pip' command.\u001b[0m\n"
     ]
    }
   ],
   "source": [
    "!pip install numpy"
   ]
  },
  {
   "cell_type": "code",
   "execution_count": 3,
   "id": "7078466e",
   "metadata": {},
   "outputs": [],
   "source": [
    "# load the dataset\n",
    "import numpy as np\n",
    "import tensorflow as tf"
   ]
  },
  {
   "cell_type": "code",
   "execution_count": 4,
   "id": "42230c28",
   "metadata": {},
   "outputs": [],
   "source": [
    "trainX = np.load('trainX.npy', allow_pickle='TRUE')\n",
    "trainY = np.load('trainY.npy', allow_pickle='TRUE')\n",
    "testX = np.load('testX.npy', allow_pickle='TRUE')\n",
    "testY = np.load('testY.npy', allow_pickle='TRUE')"
   ]
  },
  {
   "cell_type": "code",
   "execution_count": 5,
   "id": "ca58a7ee",
   "metadata": {},
   "outputs": [
    {
     "name": "stdout",
     "output_type": "stream",
     "text": [
      "(240, 10304)\n",
      "(240,)\n",
      "(160, 10304)\n",
      "(160,)\n"
     ]
    }
   ],
   "source": [
    "print(trainX.shape)\n",
    "print(trainY.shape)\n",
    "print(testX.shape)\n",
    "print(testY.shape)"
   ]
  },
  {
   "cell_type": "code",
   "execution_count": 6,
   "id": "e484d091",
   "metadata": {},
   "outputs": [
    {
     "data": {
      "text/plain": [
       "array([0, 0, 0, 0, 0, 0, 0, 0, 0, 0, 0, 0, 1, 1, 1, 1, 1, 1, 1, 1, 1, 1,\n",
       "       1, 1, 2, 2, 2, 2, 2, 2, 2, 2, 2, 2, 2, 2, 3, 3, 3, 3], dtype=uint8)"
      ]
     },
     "execution_count": 6,
     "metadata": {},
     "output_type": "execute_result"
    }
   ],
   "source": [
    "trainY[:40]"
   ]
  },
  {
   "cell_type": "code",
   "execution_count": 7,
   "id": "20855369",
   "metadata": {},
   "outputs": [
    {
     "data": {
      "text/plain": [
       "(0, 19)"
      ]
     },
     "execution_count": 7,
     "metadata": {},
     "output_type": "execute_result"
    }
   ],
   "source": [
    "trainY.min(),trainY.max()"
   ]
  },
  {
   "cell_type": "code",
   "execution_count": 8,
   "id": "7bfae3bb",
   "metadata": {},
   "outputs": [],
   "source": [
    "# we have 20 people data"
   ]
  },
  {
   "cell_type": "code",
   "execution_count": 9,
   "id": "dbcfa09b",
   "metadata": {},
   "outputs": [],
   "source": [
    "trainY = tf.keras.utils.to_categorical(trainY, num_classes=20)\n",
    "testY = tf.keras.utils.to_categorical(testY, num_classes=20)"
   ]
  },
  {
   "cell_type": "code",
   "execution_count": 10,
   "id": "940df879",
   "metadata": {},
   "outputs": [
    {
     "data": {
      "text/plain": [
       "(240, 20)"
      ]
     },
     "execution_count": 10,
     "metadata": {},
     "output_type": "execute_result"
    }
   ],
   "source": [
    "trainY.shape"
   ]
  },
  {
   "cell_type": "code",
   "execution_count": 11,
   "id": "54cfa518",
   "metadata": {},
   "outputs": [],
   "source": [
    "# no of channels =1,h,w, reshape for the same"
   ]
  },
  {
   "cell_type": "code",
   "execution_count": 12,
   "id": "573017f5",
   "metadata": {},
   "outputs": [],
   "source": [
    "trainX = trainX.reshape(240,112,92,1)"
   ]
  },
  {
   "cell_type": "code",
   "execution_count": 13,
   "id": "afd59b23",
   "metadata": {},
   "outputs": [],
   "source": [
    "testX = testX.reshape(160,112,92,1)"
   ]
  },
  {
   "cell_type": "markdown",
   "id": "d47cc8f2",
   "metadata": {},
   "source": [
    "# view the images"
   ]
  },
  {
   "cell_type": "code",
   "execution_count": 14,
   "id": "934d0352",
   "metadata": {},
   "outputs": [
    {
     "name": "stdout",
     "output_type": "stream",
     "text": [
      "Requirement already satisfied: pillow in /usr/local/lib/python3.7/site-packages (8.2.0)\n",
      "\u001b[33mWARNING: Running pip as root will break packages and permissions. You should install packages reliably by using venv: https://pip.pypa.io/warnings/venv\u001b[0m\n",
      "\u001b[33mWARNING: You are using pip version 21.1.1; however, version 21.3.1 is available.\n",
      "You should consider upgrading via the '/usr/local/bin/python3.7 -m pip install --upgrade pip' command.\u001b[0m\n"
     ]
    }
   ],
   "source": [
    "!pip install pillow"
   ]
  },
  {
   "cell_type": "code",
   "execution_count": 15,
   "id": "cd1e5f58",
   "metadata": {},
   "outputs": [
    {
     "data": {
      "image/png": "[encoded data removed]",
      "text/plain": [
       "<PIL.Image.Image image mode=L size=92x112 at 0x7F01C38CC250>"
      ]
     },
     "execution_count": 15,
     "metadata": {},
     "output_type": "execute_result"
    }
   ],
   "source": [
    "tf.keras.preprocessing.image.array_to_img(trainX[0])"
   ]
  },
  {
   "cell_type": "code",
   "execution_count": 16,
   "id": "430b60d6",
   "metadata": {},
   "outputs": [
    {
     "data": {
      "image/png": "[encoded data removed]",
      "text/plain": [
       "<PIL.Image.Image image mode=L size=92x112 at 0x7F01C58A6890>"
      ]
     },
     "execution_count": 16,
     "metadata": {},
     "output_type": "execute_result"
    }
   ],
   "source": [
    "tf.keras.preprocessing.image.array_to_img(trainX[20])"
   ]
  },
  {
   "cell_type": "markdown",
   "id": "60dfb82e",
   "metadata": {},
   "source": [
    "# build the model"
   ]
  },
  {
   "cell_type": "code",
   "execution_count": 17,
   "id": "277a8463",
   "metadata": {},
   "outputs": [
    {
     "name": "stdout",
     "output_type": "stream",
     "text": [
      "[2021-11-28 16:23:05.677 tensorflow-2-3-gpu-py-ml-t3-medium-e8c155733600f57acc66941bd944:25 INFO utils.py:27] RULE_JOB_STOP_SIGNAL_FILENAME: None\n",
      "[2021-11-28 16:23:05.718 tensorflow-2-3-gpu-py-ml-t3-medium-e8c155733600f57acc66941bd944:25 INFO profiler_config_parser.py:102] Unable to find config at /opt/ml/input/config/profilerconfig.json. Profiler is disabled.\n"
     ]
    }
   ],
   "source": [
    "tf.keras.backend.clear_session()\n",
    "model = tf.keras.models.Sequential()\n",
    "model.add(tf.keras.layers.Reshape((112,92,1), input_shape=(112,92,1)))\n",
    "#normalize the inputs\n",
    "model.add(tf.keras.layers.BatchNormalization())\n",
    "model.add(tf.keras.layers.Conv2D(32, #No of filters\n",
    "                                 kernel_size=(3,3),\n",
    "                                 activation='relu'))\n",
    "model.add(tf.keras.layers.MaxPool2D(pool_size=(2,2)))\n",
    "model.add(tf.keras.layers.Dropout(0.5))\n",
    "model.add(tf.keras.layers.Conv2D(64, kernel_size=(3,3),activation='relu'))\n",
    "model.add(tf.keras.layers.MaxPool2D(pool_size=(2,2)))\n",
    "model.add(tf.keras.layers.Dropout(0.5))\n",
    "model.add(tf.keras.layers.Conv2D(128, kernel_size=(3,3),activation='relu'))\n",
    "model.add(tf.keras.layers.MaxPool2D(pool_size=(2,2)))\n",
    "model.add(tf.keras.layers.Dropout(0.5))"
   ]
  },
  {
   "cell_type": "code",
   "execution_count": 18,
   "id": "0111d447",
   "metadata": {},
   "outputs": [],
   "source": [
    "# Flatten the extracted features in a single dimension"
   ]
  },
  {
   "cell_type": "code",
   "execution_count": 19,
   "id": "13544279",
   "metadata": {},
   "outputs": [],
   "source": [
    "model.add(tf.keras.layers.Flatten())\n",
    "model.add(tf.keras.layers.Dense(20, activation='softmax'))"
   ]
  },
  {
   "cell_type": "code",
   "execution_count": 20,
   "id": "a0a84ca2",
   "metadata": {},
   "outputs": [],
   "source": [
    "# set optimizer and loss"
   ]
  },
  {
   "cell_type": "code",
   "execution_count": 21,
   "id": "5839a6a3",
   "metadata": {},
   "outputs": [
    {
     "name": "stdout",
     "output_type": "stream",
     "text": [
      "Model: \"sequential\"\n",
      "_________________________________________________________________\n",
      "Layer (type)                 Output Shape              Param #   \n",
      "=================================================================\n",
      "reshape (Reshape)            (None, 112, 92, 1)        0         \n",
      "_________________________________________________________________\n",
      "batch_normalization (BatchNo (None, 112, 92, 1)        4         \n",
      "_________________________________________________________________\n",
      "conv2d (Conv2D)              (None, 110, 90, 32)       320       \n",
      "_________________________________________________________________\n",
      "max_pooling2d (MaxPooling2D) (None, 55, 45, 32)        0         \n",
      "_________________________________________________________________\n",
      "dropout (Dropout)            (None, 55, 45, 32)        0         \n",
      "_________________________________________________________________\n",
      "conv2d_1 (Conv2D)            (None, 53, 43, 64)        18496     \n",
      "_________________________________________________________________\n",
      "max_pooling2d_1 (MaxPooling2 (None, 26, 21, 64)        0         \n",
      "_________________________________________________________________\n",
      "dropout_1 (Dropout)          (None, 26, 21, 64)        0         \n",
      "_________________________________________________________________\n",
      "conv2d_2 (Conv2D)            (None, 24, 19, 128)       73856     \n",
      "_________________________________________________________________\n",
      "max_pooling2d_2 (MaxPooling2 (None, 12, 9, 128)        0         \n",
      "_________________________________________________________________\n",
      "dropout_2 (Dropout)          (None, 12, 9, 128)        0         \n",
      "_________________________________________________________________\n",
      "flatten (Flatten)            (None, 13824)             0         \n",
      "_________________________________________________________________\n",
      "dense (Dense)                (None, 20)                276500    \n",
      "=================================================================\n",
      "Total params: 369,176\n",
      "Trainable params: 369,174\n",
      "Non-trainable params: 2\n",
      "_________________________________________________________________\n"
     ]
    }
   ],
   "source": [
    "model.summary()"
   ]
  },
  {
   "cell_type": "code",
   "execution_count": 22,
   "id": "f108859c",
   "metadata": {},
   "outputs": [],
   "source": [
    "model.compile(optimizer='adam', \n",
    "             loss = 'categorical_crossentropy', metrics = ['accuracy'])"
   ]
  },
  {
   "cell_type": "markdown",
   "id": "32003944",
   "metadata": {},
   "source": [
    "# Train the model"
   ]
  },
  {
   "cell_type": "code",
   "execution_count": 23,
   "id": "e23c5171",
   "metadata": {},
   "outputs": [
    {
     "name": "stdout",
     "output_type": "stream",
     "text": [
      "Epoch 1/30\n",
      "15/15 [==============================] - 4s 256ms/step - loss: 3.2759 - accuracy: 0.0250 - val_loss: 2.9955 - val_accuracy: 0.0500\n",
      "Epoch 2/30\n",
      "15/15 [==============================] - 4s 243ms/step - loss: 2.7798 - accuracy: 0.1458 - val_loss: 2.9831 - val_accuracy: 0.0500\n",
      "Epoch 3/30\n",
      "15/15 [==============================] - 4s 236ms/step - loss: 1.5034 - accuracy: 0.5625 - val_loss: 3.2615 - val_accuracy: 0.0500\n",
      "Epoch 4/30\n",
      "15/15 [==============================] - 4s 234ms/step - loss: 0.4920 - accuracy: 0.8542 - val_loss: 7.2672 - val_accuracy: 0.0500\n",
      "Epoch 5/30\n",
      "15/15 [==============================] - 3s 226ms/step - loss: 0.2513 - accuracy: 0.9000 - val_loss: 7.9652 - val_accuracy: 0.0500\n",
      "Epoch 6/30\n",
      "15/15 [==============================] - 4s 244ms/step - loss: 0.1984 - accuracy: 0.9542 - val_loss: 3.9822 - val_accuracy: 0.1000\n",
      "Epoch 7/30\n",
      "15/15 [==============================] - 4s 236ms/step - loss: 0.1018 - accuracy: 0.9667 - val_loss: 1.9685 - val_accuracy: 0.3750\n",
      "Epoch 8/30\n",
      "15/15 [==============================] - 4s 241ms/step - loss: 0.0676 - accuracy: 0.9750 - val_loss: 2.7273 - val_accuracy: 0.3812\n",
      "Epoch 9/30\n",
      "15/15 [==============================] - 3s 227ms/step - loss: 0.0518 - accuracy: 0.9792 - val_loss: 1.6196 - val_accuracy: 0.5813\n",
      "Epoch 10/30\n",
      "15/15 [==============================] - 4s 240ms/step - loss: 0.0392 - accuracy: 0.9875 - val_loss: 1.5520 - val_accuracy: 0.5875\n",
      "Epoch 11/30\n",
      "15/15 [==============================] - 4s 242ms/step - loss: 0.0232 - accuracy: 0.9917 - val_loss: 0.5362 - val_accuracy: 0.8375\n",
      "Epoch 12/30\n",
      "15/15 [==============================] - 4s 236ms/step - loss: 0.0779 - accuracy: 0.9708 - val_loss: 0.5888 - val_accuracy: 0.8250\n",
      "Epoch 13/30\n",
      "15/15 [==============================] - 4s 233ms/step - loss: 0.0668 - accuracy: 0.9833 - val_loss: 0.5642 - val_accuracy: 0.8313\n",
      "Epoch 14/30\n",
      "15/15 [==============================] - 3s 227ms/step - loss: 0.0522 - accuracy: 0.9875 - val_loss: 0.3950 - val_accuracy: 0.8875\n",
      "Epoch 15/30\n",
      "15/15 [==============================] - 4s 259ms/step - loss: 0.0368 - accuracy: 0.9917 - val_loss: 0.4680 - val_accuracy: 0.8375\n",
      "Epoch 16/30\n",
      "15/15 [==============================] - 3s 229ms/step - loss: 0.0197 - accuracy: 0.9917 - val_loss: 0.2660 - val_accuracy: 0.9438\n",
      "Epoch 17/30\n",
      "15/15 [==============================] - 3s 229ms/step - loss: 0.0063 - accuracy: 1.0000 - val_loss: 0.3029 - val_accuracy: 0.9500\n",
      "Epoch 18/30\n",
      "15/15 [==============================] - 3s 229ms/step - loss: 0.0046 - accuracy: 1.0000 - val_loss: 0.2853 - val_accuracy: 0.9625\n",
      "Epoch 19/30\n",
      "15/15 [==============================] - 3s 227ms/step - loss: 0.0138 - accuracy: 0.9958 - val_loss: 0.2767 - val_accuracy: 0.9625\n",
      "Epoch 20/30\n",
      "15/15 [==============================] - 4s 239ms/step - loss: 0.0299 - accuracy: 0.9958 - val_loss: 0.1935 - val_accuracy: 0.9625\n",
      "Epoch 21/30\n",
      "15/15 [==============================] - 4s 234ms/step - loss: 0.0092 - accuracy: 0.9958 - val_loss: 0.1260 - val_accuracy: 0.9688\n",
      "Epoch 22/30\n",
      "15/15 [==============================] - 4s 234ms/step - loss: 0.0025 - accuracy: 1.0000 - val_loss: 0.1329 - val_accuracy: 0.9750\n",
      "Epoch 23/30\n",
      "15/15 [==============================] - 4s 240ms/step - loss: 9.6449e-04 - accuracy: 1.0000 - val_loss: 0.1278 - val_accuracy: 0.9688\n",
      "Epoch 24/30\n",
      "15/15 [==============================] - 4s 255ms/step - loss: 0.0034 - accuracy: 1.0000 - val_loss: 0.1837 - val_accuracy: 0.9563\n",
      "Epoch 25/30\n",
      "15/15 [==============================] - 4s 235ms/step - loss: 0.0048 - accuracy: 1.0000 - val_loss: 0.1670 - val_accuracy: 0.9563\n",
      "Epoch 26/30\n",
      "15/15 [==============================] - 4s 236ms/step - loss: 9.1173e-04 - accuracy: 1.0000 - val_loss: 0.1738 - val_accuracy: 0.9625\n",
      "Epoch 27/30\n",
      "15/15 [==============================] - 4s 238ms/step - loss: 0.0024 - accuracy: 1.0000 - val_loss: 0.2213 - val_accuracy: 0.9563\n",
      "Epoch 28/30\n",
      "15/15 [==============================] - 4s 236ms/step - loss: 0.0037 - accuracy: 1.0000 - val_loss: 0.2037 - val_accuracy: 0.9563\n",
      "Epoch 29/30\n",
      "15/15 [==============================] - 4s 236ms/step - loss: 4.5582e-04 - accuracy: 1.0000 - val_loss: 0.1891 - val_accuracy: 0.9625\n",
      "Epoch 30/30\n",
      "15/15 [==============================] - 3s 232ms/step - loss: 0.0011 - accuracy: 1.0000 - val_loss: 0.1823 - val_accuracy: 0.9625\n"
     ]
    },
    {
     "data": {
      "text/plain": [
       "<tensorflow.python.keras.callbacks.History at 0x7f01a00f8650>"
      ]
     },
     "execution_count": 23,
     "metadata": {},
     "output_type": "execute_result"
    }
   ],
   "source": [
    "model.fit(trainX, trainY, validation_data=(testX, testY), epochs=30, batch_size=16)"
   ]
  },
  {
   "cell_type": "code",
   "execution_count": 24,
   "id": "de90c676",
   "metadata": {},
   "outputs": [],
   "source": [
    "#  Lets use Transfer learning using ResNet50"
   ]
  },
  {
   "cell_type": "code",
   "execution_count": 25,
   "id": "bbbc0d0e",
   "metadata": {},
   "outputs": [],
   "source": [
    "# prepare data to have 3 channels"
   ]
  },
  {
   "cell_type": "code",
   "execution_count": 26,
   "id": "d2dcc13a",
   "metadata": {},
   "outputs": [
    {
     "name": "stdout",
     "output_type": "stream",
     "text": [
      "(240, 10304)\n",
      "(240,)\n",
      "(160, 10304)\n",
      "(160,)\n"
     ]
    }
   ],
   "source": [
    "trainX = np.load(\"trainX.npy\", allow_pickle='TRUE')\n",
    "trainY = np.load(\"trainY.npy\", allow_pickle='TRUE')\n",
    "testX = np.load(\"testX.npy\", allow_pickle='TRUE')\n",
    "testY = np.load(\"testY.npy\", allow_pickle='TRUE')\n",
    "print(trainX.shape)\n",
    "print(trainY.shape)\n",
    "print(testX.shape)\n",
    "print(testY.shape)"
   ]
  },
  {
   "cell_type": "code",
   "execution_count": 27,
   "id": "4a6c3951",
   "metadata": {},
   "outputs": [],
   "source": [
    "trainY = tf.keras.utils.to_categorical(trainY, num_classes=20)\n",
    "testY = tf.keras.utils.to_categorical(testY, num_classes=20)"
   ]
  },
  {
   "cell_type": "code",
   "execution_count": 28,
   "id": "413d90b4",
   "metadata": {},
   "outputs": [],
   "source": [
    "trainX= trainX.reshape(240,112,92)\n",
    "testX = testX.reshape(160,112,92)"
   ]
  },
  {
   "cell_type": "code",
   "execution_count": 29,
   "id": "4c0160dd",
   "metadata": {},
   "outputs": [],
   "source": [
    "trainX = np.repeat(trainX[...,np.newaxis],3,-1)\n",
    "testX = np.repeat(testX[...,np.newaxis],3,-1)"
   ]
  },
  {
   "cell_type": "code",
   "execution_count": 30,
   "id": "7d83e9aa",
   "metadata": {},
   "outputs": [
    {
     "data": {
      "text/plain": [
       "(240, 112, 92, 3)"
      ]
     },
     "execution_count": 30,
     "metadata": {},
     "output_type": "execute_result"
    }
   ],
   "source": [
    "trainX.shape"
   ]
  },
  {
   "cell_type": "markdown",
   "id": "e24d5a81",
   "metadata": {},
   "source": [
    "# Create resnet model and download pretrained weights"
   ]
  },
  {
   "cell_type": "code",
   "execution_count": 31,
   "id": "c5b26732",
   "metadata": {},
   "outputs": [
    {
     "name": "stdout",
     "output_type": "stream",
     "text": [
      "Downloading data from https://storage.googleapis.com/tensorflow/keras-applications/resnet/resnet50_weights_tf_dim_ordering_tf_kernels_notop.h5\n",
      "94773248/94765736 [==============================] - 1s 0us/step\n"
     ]
    }
   ],
   "source": [
    "model = tf.keras.applications.resnet50.ResNet50(include_top=False, #we will make our own FC layer\n",
    "                                                input_shape=(112,92,3),\n",
    "                                                weights='imagenet')"
   ]
  },
  {
   "cell_type": "code",
   "execution_count": 32,
   "id": "2b0b660b",
   "metadata": {},
   "outputs": [],
   "source": [
    "#Set the base layers to not trainable and we will add our own layers\n",
    "for layer in model.layers:\n",
    "    layer.trainable = False"
   ]
  },
  {
   "cell_type": "code",
   "execution_count": 33,
   "id": "13f8665f",
   "metadata": {},
   "outputs": [
    {
     "data": {
      "text/plain": [
       "<tf.Tensor 'conv5_block3_out/Relu:0' shape=(None, 4, 3, 2048) dtype=float32>"
      ]
     },
     "execution_count": 33,
     "metadata": {},
     "output_type": "execute_result"
    }
   ],
   "source": [
    "model.output"
   ]
  },
  {
   "cell_type": "markdown",
   "id": "dae937cb",
   "metadata": {},
   "source": [
    "# Add FC layer for our classes"
   ]
  },
  {
   "cell_type": "code",
   "execution_count": 34,
   "id": "2ee11f2f",
   "metadata": {},
   "outputs": [],
   "source": [
    "\n",
    "#lets get the output tensor\n",
    "x = model.output\n",
    "#Flatten the output in single dim\n",
    "x = tf.keras.layers.Flatten()(x)\n",
    "#Add one intermediate dense layer\n",
    "x = tf.keras.layers.Dense(200, activation='relu')(x)\n",
    "#Lets the add the final classification layer(20 modes)\n",
    "prediction = tf.keras.layers.Dense(20, activation='softmax')(x)"
   ]
  },
  {
   "cell_type": "markdown",
   "id": "27da25db",
   "metadata": {},
   "source": [
    "# Build the final model\n"
   ]
  },
  {
   "cell_type": "code",
   "execution_count": 35,
   "id": "df73a78d",
   "metadata": {},
   "outputs": [],
   "source": [
    "final_model = tf.keras.models.Model(inputs=model.input,\n",
    "                                    outputs=prediction)"
   ]
  },
  {
   "cell_type": "code",
   "execution_count": 36,
   "id": "ad819883",
   "metadata": {},
   "outputs": [
    {
     "name": "stdout",
     "output_type": "stream",
     "text": [
      "Model: \"functional_1\"\n",
      "__________________________________________________________________________________________________\n",
      "Layer (type)                    Output Shape         Param #     Connected to                     \n",
      "==================================================================================================\n",
      "input_1 (InputLayer)            [(None, 112, 92, 3)] 0                                            \n",
      "__________________________________________________________________________________________________\n",
      "conv1_pad (ZeroPadding2D)       (None, 118, 98, 3)   0           input_1[0][0]                    \n",
      "__________________________________________________________________________________________________\n",
      "conv1_conv (Conv2D)             (None, 56, 46, 64)   9472        conv1_pad[0][0]                  \n",
      "__________________________________________________________________________________________________\n",
      "conv1_bn (BatchNormalization)   (None, 56, 46, 64)   256         conv1_conv[0][0]                 \n",
      "__________________________________________________________________________________________________\n",
      "conv1_relu (Activation)         (None, 56, 46, 64)   0           conv1_bn[0][0]                   \n",
      "__________________________________________________________________________________________________\n",
      "pool1_pad (ZeroPadding2D)       (None, 58, 48, 64)   0           conv1_relu[0][0]                 \n",
      "__________________________________________________________________________________________________\n",
      "pool1_pool (MaxPooling2D)       (None, 28, 23, 64)   0           pool1_pad[0][0]                  \n",
      "__________________________________________________________________________________________________\n",
      "conv2_block1_1_conv (Conv2D)    (None, 28, 23, 64)   4160        pool1_pool[0][0]                 \n",
      "__________________________________________________________________________________________________\n",
      "conv2_block1_1_bn (BatchNormali (None, 28, 23, 64)   256         conv2_block1_1_conv[0][0]        \n",
      "__________________________________________________________________________________________________\n",
      "conv2_block1_1_relu (Activation (None, 28, 23, 64)   0           conv2_block1_1_bn[0][0]          \n",
      "__________________________________________________________________________________________________\n",
      "conv2_block1_2_conv (Conv2D)    (None, 28, 23, 64)   36928       conv2_block1_1_relu[0][0]        \n",
      "__________________________________________________________________________________________________\n",
      "conv2_block1_2_bn (BatchNormali (None, 28, 23, 64)   256         conv2_block1_2_conv[0][0]        \n",
      "__________________________________________________________________________________________________\n",
      "conv2_block1_2_relu (Activation (None, 28, 23, 64)   0           conv2_block1_2_bn[0][0]          \n",
      "__________________________________________________________________________________________________\n",
      "conv2_block1_0_conv (Conv2D)    (None, 28, 23, 256)  16640       pool1_pool[0][0]                 \n",
      "__________________________________________________________________________________________________\n",
      "conv2_block1_3_conv (Conv2D)    (None, 28, 23, 256)  16640       conv2_block1_2_relu[0][0]        \n",
      "__________________________________________________________________________________________________\n",
      "conv2_block1_0_bn (BatchNormali (None, 28, 23, 256)  1024        conv2_block1_0_conv[0][0]        \n",
      "__________________________________________________________________________________________________\n",
      "conv2_block1_3_bn (BatchNormali (None, 28, 23, 256)  1024        conv2_block1_3_conv[0][0]        \n",
      "__________________________________________________________________________________________________\n",
      "conv2_block1_add (Add)          (None, 28, 23, 256)  0           conv2_block1_0_bn[0][0]          \n",
      "                                                                 conv2_block1_3_bn[0][0]          \n",
      "__________________________________________________________________________________________________\n",
      "conv2_block1_out (Activation)   (None, 28, 23, 256)  0           conv2_block1_add[0][0]           \n",
      "__________________________________________________________________________________________________\n",
      "conv2_block2_1_conv (Conv2D)    (None, 28, 23, 64)   16448       conv2_block1_out[0][0]           \n",
      "__________________________________________________________________________________________________\n",
      "conv2_block2_1_bn (BatchNormali (None, 28, 23, 64)   256         conv2_block2_1_conv[0][0]        \n",
      "__________________________________________________________________________________________________\n",
      "conv2_block2_1_relu (Activation (None, 28, 23, 64)   0           conv2_block2_1_bn[0][0]          \n",
      "__________________________________________________________________________________________________\n",
      "conv2_block2_2_conv (Conv2D)    (None, 28, 23, 64)   36928       conv2_block2_1_relu[0][0]        \n",
      "__________________________________________________________________________________________________\n",
      "conv2_block2_2_bn (BatchNormali (None, 28, 23, 64)   256         conv2_block2_2_conv[0][0]        \n",
      "__________________________________________________________________________________________________\n",
      "conv2_block2_2_relu (Activation (None, 28, 23, 64)   0           conv2_block2_2_bn[0][0]          \n",
      "__________________________________________________________________________________________________\n",
      "conv2_block2_3_conv (Conv2D)    (None, 28, 23, 256)  16640       conv2_block2_2_relu[0][0]        \n",
      "__________________________________________________________________________________________________\n",
      "conv2_block2_3_bn (BatchNormali (None, 28, 23, 256)  1024        conv2_block2_3_conv[0][0]        \n",
      "__________________________________________________________________________________________________\n",
      "conv2_block2_add (Add)          (None, 28, 23, 256)  0           conv2_block1_out[0][0]           \n",
      "                                                                 conv2_block2_3_bn[0][0]          \n",
      "__________________________________________________________________________________________________\n",
      "conv2_block2_out (Activation)   (None, 28, 23, 256)  0           conv2_block2_add[0][0]           \n",
      "__________________________________________________________________________________________________\n",
      "conv2_block3_1_conv (Conv2D)    (None, 28, 23, 64)   16448       conv2_block2_out[0][0]           \n",
      "__________________________________________________________________________________________________\n",
      "conv2_block3_1_bn (BatchNormali (None, 28, 23, 64)   256         conv2_block3_1_conv[0][0]        \n",
      "__________________________________________________________________________________________________\n",
      "conv2_block3_1_relu (Activation (None, 28, 23, 64)   0           conv2_block3_1_bn[0][0]          \n",
      "__________________________________________________________________________________________________\n",
      "conv2_block3_2_conv (Conv2D)    (None, 28, 23, 64)   36928       conv2_block3_1_relu[0][0]        \n",
      "__________________________________________________________________________________________________\n",
      "conv2_block3_2_bn (BatchNormali (None, 28, 23, 64)   256         conv2_block3_2_conv[0][0]        \n",
      "__________________________________________________________________________________________________\n",
      "conv2_block3_2_relu (Activation (None, 28, 23, 64)   0           conv2_block3_2_bn[0][0]          \n",
      "__________________________________________________________________________________________________\n",
      "conv2_block3_3_conv (Conv2D)    (None, 28, 23, 256)  16640       conv2_block3_2_relu[0][0]        \n",
      "__________________________________________________________________________________________________\n",
      "conv2_block3_3_bn (BatchNormali (None, 28, 23, 256)  1024        conv2_block3_3_conv[0][0]        \n",
      "__________________________________________________________________________________________________\n",
      "conv2_block3_add (Add)          (None, 28, 23, 256)  0           conv2_block2_out[0][0]           \n",
      "                                                                 conv2_block3_3_bn[0][0]          \n",
      "__________________________________________________________________________________________________\n",
      "conv2_block3_out (Activation)   (None, 28, 23, 256)  0           conv2_block3_add[0][0]           \n",
      "__________________________________________________________________________________________________\n",
      "conv3_block1_1_conv (Conv2D)    (None, 14, 12, 128)  32896       conv2_block3_out[0][0]           \n",
      "__________________________________________________________________________________________________\n",
      "conv3_block1_1_bn (BatchNormali (None, 14, 12, 128)  512         conv3_block1_1_conv[0][0]        \n",
      "__________________________________________________________________________________________________\n",
      "conv3_block1_1_relu (Activation (None, 14, 12, 128)  0           conv3_block1_1_bn[0][0]          \n",
      "__________________________________________________________________________________________________\n",
      "conv3_block1_2_conv (Conv2D)    (None, 14, 12, 128)  147584      conv3_block1_1_relu[0][0]        \n",
      "__________________________________________________________________________________________________\n",
      "conv3_block1_2_bn (BatchNormali (None, 14, 12, 128)  512         conv3_block1_2_conv[0][0]        \n",
      "__________________________________________________________________________________________________\n",
      "conv3_block1_2_relu (Activation (None, 14, 12, 128)  0           conv3_block1_2_bn[0][0]          \n",
      "__________________________________________________________________________________________________\n",
      "conv3_block1_0_conv (Conv2D)    (None, 14, 12, 512)  131584      conv2_block3_out[0][0]           \n",
      "__________________________________________________________________________________________________\n",
      "conv3_block1_3_conv (Conv2D)    (None, 14, 12, 512)  66048       conv3_block1_2_relu[0][0]        \n",
      "__________________________________________________________________________________________________\n",
      "conv3_block1_0_bn (BatchNormali (None, 14, 12, 512)  2048        conv3_block1_0_conv[0][0]        \n",
      "__________________________________________________________________________________________________\n",
      "conv3_block1_3_bn (BatchNormali (None, 14, 12, 512)  2048        conv3_block1_3_conv[0][0]        \n",
      "__________________________________________________________________________________________________\n",
      "conv3_block1_add (Add)          (None, 14, 12, 512)  0           conv3_block1_0_bn[0][0]          \n",
      "                                                                 conv3_block1_3_bn[0][0]          \n",
      "__________________________________________________________________________________________________\n",
      "conv3_block1_out (Activation)   (None, 14, 12, 512)  0           conv3_block1_add[0][0]           \n",
      "__________________________________________________________________________________________________\n",
      "conv3_block2_1_conv (Conv2D)    (None, 14, 12, 128)  65664       conv3_block1_out[0][0]           \n",
      "__________________________________________________________________________________________________\n",
      "conv3_block2_1_bn (BatchNormali (None, 14, 12, 128)  512         conv3_block2_1_conv[0][0]        \n",
      "__________________________________________________________________________________________________\n",
      "conv3_block2_1_relu (Activation (None, 14, 12, 128)  0           conv3_block2_1_bn[0][0]          \n",
      "__________________________________________________________________________________________________\n",
      "conv3_block2_2_conv (Conv2D)    (None, 14, 12, 128)  147584      conv3_block2_1_relu[0][0]        \n",
      "__________________________________________________________________________________________________\n",
      "conv3_block2_2_bn (BatchNormali (None, 14, 12, 128)  512         conv3_block2_2_conv[0][0]        \n",
      "__________________________________________________________________________________________________\n",
      "conv3_block2_2_relu (Activation (None, 14, 12, 128)  0           conv3_block2_2_bn[0][0]          \n",
      "__________________________________________________________________________________________________\n",
      "conv3_block2_3_conv (Conv2D)    (None, 14, 12, 512)  66048       conv3_block2_2_relu[0][0]        \n",
      "__________________________________________________________________________________________________\n",
      "conv3_block2_3_bn (BatchNormali (None, 14, 12, 512)  2048        conv3_block2_3_conv[0][0]        \n",
      "__________________________________________________________________________________________________\n",
      "conv3_block2_add (Add)          (None, 14, 12, 512)  0           conv3_block1_out[0][0]           \n",
      "                                                                 conv3_block2_3_bn[0][0]          \n",
      "__________________________________________________________________________________________________\n",
      "conv3_block2_out (Activation)   (None, 14, 12, 512)  0           conv3_block2_add[0][0]           \n",
      "__________________________________________________________________________________________________\n",
      "conv3_block3_1_conv (Conv2D)    (None, 14, 12, 128)  65664       conv3_block2_out[0][0]           \n",
      "__________________________________________________________________________________________________\n",
      "conv3_block3_1_bn (BatchNormali (None, 14, 12, 128)  512         conv3_block3_1_conv[0][0]        \n",
      "__________________________________________________________________________________________________\n",
      "conv3_block3_1_relu (Activation (None, 14, 12, 128)  0           conv3_block3_1_bn[0][0]          \n",
      "__________________________________________________________________________________________________\n",
      "conv3_block3_2_conv (Conv2D)    (None, 14, 12, 128)  147584      conv3_block3_1_relu[0][0]        \n",
      "__________________________________________________________________________________________________\n",
      "conv3_block3_2_bn (BatchNormali (None, 14, 12, 128)  512         conv3_block3_2_conv[0][0]        \n",
      "__________________________________________________________________________________________________\n",
      "conv3_block3_2_relu (Activation (None, 14, 12, 128)  0           conv3_block3_2_bn[0][0]          \n",
      "__________________________________________________________________________________________________\n",
      "conv3_block3_3_conv (Conv2D)    (None, 14, 12, 512)  66048       conv3_block3_2_relu[0][0]        \n",
      "__________________________________________________________________________________________________\n",
      "conv3_block3_3_bn (BatchNormali (None, 14, 12, 512)  2048        conv3_block3_3_conv[0][0]        \n",
      "__________________________________________________________________________________________________\n",
      "conv3_block3_add (Add)          (None, 14, 12, 512)  0           conv3_block2_out[0][0]           \n",
      "                                                                 conv3_block3_3_bn[0][0]          \n",
      "__________________________________________________________________________________________________\n",
      "conv3_block3_out (Activation)   (None, 14, 12, 512)  0           conv3_block3_add[0][0]           \n",
      "__________________________________________________________________________________________________\n",
      "conv3_block4_1_conv (Conv2D)    (None, 14, 12, 128)  65664       conv3_block3_out[0][0]           \n",
      "__________________________________________________________________________________________________\n",
      "conv3_block4_1_bn (BatchNormali (None, 14, 12, 128)  512         conv3_block4_1_conv[0][0]        \n",
      "__________________________________________________________________________________________________\n",
      "conv3_block4_1_relu (Activation (None, 14, 12, 128)  0           conv3_block4_1_bn[0][0]          \n",
      "__________________________________________________________________________________________________\n",
      "conv3_block4_2_conv (Conv2D)    (None, 14, 12, 128)  147584      conv3_block4_1_relu[0][0]        \n",
      "__________________________________________________________________________________________________\n",
      "conv3_block4_2_bn (BatchNormali (None, 14, 12, 128)  512         conv3_block4_2_conv[0][0]        \n",
      "__________________________________________________________________________________________________\n",
      "conv3_block4_2_relu (Activation (None, 14, 12, 128)  0           conv3_block4_2_bn[0][0]          \n",
      "__________________________________________________________________________________________________\n",
      "conv3_block4_3_conv (Conv2D)    (None, 14, 12, 512)  66048       conv3_block4_2_relu[0][0]        \n",
      "__________________________________________________________________________________________________\n",
      "conv3_block4_3_bn (BatchNormali (None, 14, 12, 512)  2048        conv3_block4_3_conv[0][0]        \n",
      "__________________________________________________________________________________________________\n",
      "conv3_block4_add (Add)          (None, 14, 12, 512)  0           conv3_block3_out[0][0]           \n",
      "                                                                 conv3_block4_3_bn[0][0]          \n",
      "__________________________________________________________________________________________________\n",
      "conv3_block4_out (Activation)   (None, 14, 12, 512)  0           conv3_block4_add[0][0]           \n",
      "__________________________________________________________________________________________________\n",
      "conv4_block1_1_conv (Conv2D)    (None, 7, 6, 256)    131328      conv3_block4_out[0][0]           \n",
      "__________________________________________________________________________________________________\n",
      "conv4_block1_1_bn (BatchNormali (None, 7, 6, 256)    1024        conv4_block1_1_conv[0][0]        \n",
      "__________________________________________________________________________________________________\n",
      "conv4_block1_1_relu (Activation (None, 7, 6, 256)    0           conv4_block1_1_bn[0][0]          \n",
      "__________________________________________________________________________________________________\n",
      "conv4_block1_2_conv (Conv2D)    (None, 7, 6, 256)    590080      conv4_block1_1_relu[0][0]        \n",
      "__________________________________________________________________________________________________\n",
      "conv4_block1_2_bn (BatchNormali (None, 7, 6, 256)    1024        conv4_block1_2_conv[0][0]        \n",
      "__________________________________________________________________________________________________\n",
      "conv4_block1_2_relu (Activation (None, 7, 6, 256)    0           conv4_block1_2_bn[0][0]          \n",
      "__________________________________________________________________________________________________\n",
      "conv4_block1_0_conv (Conv2D)    (None, 7, 6, 1024)   525312      conv3_block4_out[0][0]           \n",
      "__________________________________________________________________________________________________\n",
      "conv4_block1_3_conv (Conv2D)    (None, 7, 6, 1024)   263168      conv4_block1_2_relu[0][0]        \n",
      "__________________________________________________________________________________________________\n",
      "conv4_block1_0_bn (BatchNormali (None, 7, 6, 1024)   4096        conv4_block1_0_conv[0][0]        \n",
      "__________________________________________________________________________________________________\n",
      "conv4_block1_3_bn (BatchNormali (None, 7, 6, 1024)   4096        conv4_block1_3_conv[0][0]        \n",
      "__________________________________________________________________________________________________\n",
      "conv4_block1_add (Add)          (None, 7, 6, 1024)   0           conv4_block1_0_bn[0][0]          \n",
      "                                                                 conv4_block1_3_bn[0][0]          \n",
      "__________________________________________________________________________________________________\n",
      "conv4_block1_out (Activation)   (None, 7, 6, 1024)   0           conv4_block1_add[0][0]           \n",
      "__________________________________________________________________________________________________\n",
      "conv4_block2_1_conv (Conv2D)    (None, 7, 6, 256)    262400      conv4_block1_out[0][0]           \n",
      "__________________________________________________________________________________________________\n",
      "conv4_block2_1_bn (BatchNormali (None, 7, 6, 256)    1024        conv4_block2_1_conv[0][0]        \n",
      "__________________________________________________________________________________________________\n",
      "conv4_block2_1_relu (Activation (None, 7, 6, 256)    0           conv4_block2_1_bn[0][0]          \n",
      "__________________________________________________________________________________________________\n",
      "conv4_block2_2_conv (Conv2D)    (None, 7, 6, 256)    590080      conv4_block2_1_relu[0][0]        \n",
      "__________________________________________________________________________________________________\n",
      "conv4_block2_2_bn (BatchNormali (None, 7, 6, 256)    1024        conv4_block2_2_conv[0][0]        \n",
      "__________________________________________________________________________________________________\n",
      "conv4_block2_2_relu (Activation (None, 7, 6, 256)    0           conv4_block2_2_bn[0][0]          \n",
      "__________________________________________________________________________________________________\n",
      "conv4_block2_3_conv (Conv2D)    (None, 7, 6, 1024)   263168      conv4_block2_2_relu[0][0]        \n",
      "__________________________________________________________________________________________________\n",
      "conv4_block2_3_bn (BatchNormali (None, 7, 6, 1024)   4096        conv4_block2_3_conv[0][0]        \n",
      "__________________________________________________________________________________________________\n",
      "conv4_block2_add (Add)          (None, 7, 6, 1024)   0           conv4_block1_out[0][0]           \n",
      "                                                                 conv4_block2_3_bn[0][0]          \n",
      "__________________________________________________________________________________________________\n",
      "conv4_block2_out (Activation)   (None, 7, 6, 1024)   0           conv4_block2_add[0][0]           \n",
      "__________________________________________________________________________________________________\n",
      "conv4_block3_1_conv (Conv2D)    (None, 7, 6, 256)    262400      conv4_block2_out[0][0]           \n",
      "__________________________________________________________________________________________________\n",
      "conv4_block3_1_bn (BatchNormali (None, 7, 6, 256)    1024        conv4_block3_1_conv[0][0]        \n",
      "__________________________________________________________________________________________________\n",
      "conv4_block3_1_relu (Activation (None, 7, 6, 256)    0           conv4_block3_1_bn[0][0]          \n",
      "__________________________________________________________________________________________________\n",
      "conv4_block3_2_conv (Conv2D)    (None, 7, 6, 256)    590080      conv4_block3_1_relu[0][0]        \n",
      "__________________________________________________________________________________________________\n",
      "conv4_block3_2_bn (BatchNormali (None, 7, 6, 256)    1024        conv4_block3_2_conv[0][0]        \n",
      "__________________________________________________________________________________________________\n",
      "conv4_block3_2_relu (Activation (None, 7, 6, 256)    0           conv4_block3_2_bn[0][0]          \n",
      "__________________________________________________________________________________________________\n",
      "conv4_block3_3_conv (Conv2D)    (None, 7, 6, 1024)   263168      conv4_block3_2_relu[0][0]        \n",
      "__________________________________________________________________________________________________\n",
      "conv4_block3_3_bn (BatchNormali (None, 7, 6, 1024)   4096        conv4_block3_3_conv[0][0]        \n",
      "__________________________________________________________________________________________________\n",
      "conv4_block3_add (Add)          (None, 7, 6, 1024)   0           conv4_block2_out[0][0]           \n",
      "                                                                 conv4_block3_3_bn[0][0]          \n",
      "__________________________________________________________________________________________________\n",
      "conv4_block3_out (Activation)   (None, 7, 6, 1024)   0           conv4_block3_add[0][0]           \n",
      "__________________________________________________________________________________________________\n",
      "conv4_block4_1_conv (Conv2D)    (None, 7, 6, 256)    262400      conv4_block3_out[0][0]           \n",
      "__________________________________________________________________________________________________\n",
      "conv4_block4_1_bn (BatchNormali (None, 7, 6, 256)    1024        conv4_block4_1_conv[0][0]        \n",
      "__________________________________________________________________________________________________\n",
      "conv4_block4_1_relu (Activation (None, 7, 6, 256)    0           conv4_block4_1_bn[0][0]          \n",
      "__________________________________________________________________________________________________\n",
      "conv4_block4_2_conv (Conv2D)    (None, 7, 6, 256)    590080      conv4_block4_1_relu[0][0]        \n",
      "__________________________________________________________________________________________________\n",
      "conv4_block4_2_bn (BatchNormali (None, 7, 6, 256)    1024        conv4_block4_2_conv[0][0]        \n",
      "__________________________________________________________________________________________________\n",
      "conv4_block4_2_relu (Activation (None, 7, 6, 256)    0           conv4_block4_2_bn[0][0]          \n",
      "__________________________________________________________________________________________________\n",
      "conv4_block4_3_conv (Conv2D)    (None, 7, 6, 1024)   263168      conv4_block4_2_relu[0][0]        \n",
      "__________________________________________________________________________________________________\n",
      "conv4_block4_3_bn (BatchNormali (None, 7, 6, 1024)   4096        conv4_block4_3_conv[0][0]        \n",
      "__________________________________________________________________________________________________\n",
      "conv4_block4_add (Add)          (None, 7, 6, 1024)   0           conv4_block3_out[0][0]           \n",
      "                                                                 conv4_block4_3_bn[0][0]          \n",
      "__________________________________________________________________________________________________\n",
      "conv4_block4_out (Activation)   (None, 7, 6, 1024)   0           conv4_block4_add[0][0]           \n",
      "__________________________________________________________________________________________________\n",
      "conv4_block5_1_conv (Conv2D)    (None, 7, 6, 256)    262400      conv4_block4_out[0][0]           \n",
      "__________________________________________________________________________________________________\n",
      "conv4_block5_1_bn (BatchNormali (None, 7, 6, 256)    1024        conv4_block5_1_conv[0][0]        \n",
      "__________________________________________________________________________________________________\n",
      "conv4_block5_1_relu (Activation (None, 7, 6, 256)    0           conv4_block5_1_bn[0][0]          \n",
      "__________________________________________________________________________________________________\n",
      "conv4_block5_2_conv (Conv2D)    (None, 7, 6, 256)    590080      conv4_block5_1_relu[0][0]        \n",
      "__________________________________________________________________________________________________\n",
      "conv4_block5_2_bn (BatchNormali (None, 7, 6, 256)    1024        conv4_block5_2_conv[0][0]        \n",
      "__________________________________________________________________________________________________\n",
      "conv4_block5_2_relu (Activation (None, 7, 6, 256)    0           conv4_block5_2_bn[0][0]          \n",
      "__________________________________________________________________________________________________\n",
      "conv4_block5_3_conv (Conv2D)    (None, 7, 6, 1024)   263168      conv4_block5_2_relu[0][0]        \n",
      "__________________________________________________________________________________________________\n",
      "conv4_block5_3_bn (BatchNormali (None, 7, 6, 1024)   4096        conv4_block5_3_conv[0][0]        \n",
      "__________________________________________________________________________________________________\n",
      "conv4_block5_add (Add)          (None, 7, 6, 1024)   0           conv4_block4_out[0][0]           \n",
      "                                                                 conv4_block5_3_bn[0][0]          \n",
      "__________________________________________________________________________________________________\n",
      "conv4_block5_out (Activation)   (None, 7, 6, 1024)   0           conv4_block5_add[0][0]           \n",
      "__________________________________________________________________________________________________\n",
      "conv4_block6_1_conv (Conv2D)    (None, 7, 6, 256)    262400      conv4_block5_out[0][0]           \n",
      "__________________________________________________________________________________________________\n",
      "conv4_block6_1_bn (BatchNormali (None, 7, 6, 256)    1024        conv4_block6_1_conv[0][0]        \n",
      "__________________________________________________________________________________________________\n",
      "conv4_block6_1_relu (Activation (None, 7, 6, 256)    0           conv4_block6_1_bn[0][0]          \n",
      "__________________________________________________________________________________________________\n",
      "conv4_block6_2_conv (Conv2D)    (None, 7, 6, 256)    590080      conv4_block6_1_relu[0][0]        \n",
      "__________________________________________________________________________________________________\n",
      "conv4_block6_2_bn (BatchNormali (None, 7, 6, 256)    1024        conv4_block6_2_conv[0][0]        \n",
      "__________________________________________________________________________________________________\n",
      "conv4_block6_2_relu (Activation (None, 7, 6, 256)    0           conv4_block6_2_bn[0][0]          \n",
      "__________________________________________________________________________________________________\n",
      "conv4_block6_3_conv (Conv2D)    (None, 7, 6, 1024)   263168      conv4_block6_2_relu[0][0]        \n",
      "__________________________________________________________________________________________________\n",
      "conv4_block6_3_bn (BatchNormali (None, 7, 6, 1024)   4096        conv4_block6_3_conv[0][0]        \n",
      "__________________________________________________________________________________________________\n",
      "conv4_block6_add (Add)          (None, 7, 6, 1024)   0           conv4_block5_out[0][0]           \n",
      "                                                                 conv4_block6_3_bn[0][0]          \n",
      "__________________________________________________________________________________________________\n",
      "conv4_block6_out (Activation)   (None, 7, 6, 1024)   0           conv4_block6_add[0][0]           \n",
      "__________________________________________________________________________________________________\n",
      "conv5_block1_1_conv (Conv2D)    (None, 4, 3, 512)    524800      conv4_block6_out[0][0]           \n",
      "__________________________________________________________________________________________________\n",
      "conv5_block1_1_bn (BatchNormali (None, 4, 3, 512)    2048        conv5_block1_1_conv[0][0]        \n",
      "__________________________________________________________________________________________________\n",
      "conv5_block1_1_relu (Activation (None, 4, 3, 512)    0           conv5_block1_1_bn[0][0]          \n",
      "__________________________________________________________________________________________________\n",
      "conv5_block1_2_conv (Conv2D)    (None, 4, 3, 512)    2359808     conv5_block1_1_relu[0][0]        \n",
      "__________________________________________________________________________________________________\n",
      "conv5_block1_2_bn (BatchNormali (None, 4, 3, 512)    2048        conv5_block1_2_conv[0][0]        \n",
      "__________________________________________________________________________________________________\n",
      "conv5_block1_2_relu (Activation (None, 4, 3, 512)    0           conv5_block1_2_bn[0][0]          \n",
      "__________________________________________________________________________________________________\n",
      "conv5_block1_0_conv (Conv2D)    (None, 4, 3, 2048)   2099200     conv4_block6_out[0][0]           \n",
      "__________________________________________________________________________________________________\n",
      "conv5_block1_3_conv (Conv2D)    (None, 4, 3, 2048)   1050624     conv5_block1_2_relu[0][0]        \n",
      "__________________________________________________________________________________________________\n",
      "conv5_block1_0_bn (BatchNormali (None, 4, 3, 2048)   8192        conv5_block1_0_conv[0][0]        \n",
      "__________________________________________________________________________________________________\n",
      "conv5_block1_3_bn (BatchNormali (None, 4, 3, 2048)   8192        conv5_block1_3_conv[0][0]        \n",
      "__________________________________________________________________________________________________\n",
      "conv5_block1_add (Add)          (None, 4, 3, 2048)   0           conv5_block1_0_bn[0][0]          \n",
      "                                                                 conv5_block1_3_bn[0][0]          \n",
      "__________________________________________________________________________________________________\n",
      "conv5_block1_out (Activation)   (None, 4, 3, 2048)   0           conv5_block1_add[0][0]           \n",
      "__________________________________________________________________________________________________\n",
      "conv5_block2_1_conv (Conv2D)    (None, 4, 3, 512)    1049088     conv5_block1_out[0][0]           \n",
      "__________________________________________________________________________________________________\n",
      "conv5_block2_1_bn (BatchNormali (None, 4, 3, 512)    2048        conv5_block2_1_conv[0][0]        \n",
      "__________________________________________________________________________________________________\n",
      "conv5_block2_1_relu (Activation (None, 4, 3, 512)    0           conv5_block2_1_bn[0][0]          \n",
      "__________________________________________________________________________________________________\n",
      "conv5_block2_2_conv (Conv2D)    (None, 4, 3, 512)    2359808     conv5_block2_1_relu[0][0]        \n",
      "__________________________________________________________________________________________________\n",
      "conv5_block2_2_bn (BatchNormali (None, 4, 3, 512)    2048        conv5_block2_2_conv[0][0]        \n",
      "__________________________________________________________________________________________________\n",
      "conv5_block2_2_relu (Activation (None, 4, 3, 512)    0           conv5_block2_2_bn[0][0]          \n",
      "__________________________________________________________________________________________________\n",
      "conv5_block2_3_conv (Conv2D)    (None, 4, 3, 2048)   1050624     conv5_block2_2_relu[0][0]        \n",
      "__________________________________________________________________________________________________\n",
      "conv5_block2_3_bn (BatchNormali (None, 4, 3, 2048)   8192        conv5_block2_3_conv[0][0]        \n",
      "__________________________________________________________________________________________________\n",
      "conv5_block2_add (Add)          (None, 4, 3, 2048)   0           conv5_block1_out[0][0]           \n",
      "                                                                 conv5_block2_3_bn[0][0]          \n",
      "__________________________________________________________________________________________________\n",
      "conv5_block2_out (Activation)   (None, 4, 3, 2048)   0           conv5_block2_add[0][0]           \n",
      "__________________________________________________________________________________________________\n",
      "conv5_block3_1_conv (Conv2D)    (None, 4, 3, 512)    1049088     conv5_block2_out[0][0]           \n",
      "__________________________________________________________________________________________________\n",
      "conv5_block3_1_bn (BatchNormali (None, 4, 3, 512)    2048        conv5_block3_1_conv[0][0]        \n",
      "__________________________________________________________________________________________________\n",
      "conv5_block3_1_relu (Activation (None, 4, 3, 512)    0           conv5_block3_1_bn[0][0]          \n",
      "__________________________________________________________________________________________________\n",
      "conv5_block3_2_conv (Conv2D)    (None, 4, 3, 512)    2359808     conv5_block3_1_relu[0][0]        \n",
      "__________________________________________________________________________________________________\n",
      "conv5_block3_2_bn (BatchNormali (None, 4, 3, 512)    2048        conv5_block3_2_conv[0][0]        \n",
      "__________________________________________________________________________________________________\n",
      "conv5_block3_2_relu (Activation (None, 4, 3, 512)    0           conv5_block3_2_bn[0][0]          \n",
      "__________________________________________________________________________________________________\n",
      "conv5_block3_3_conv (Conv2D)    (None, 4, 3, 2048)   1050624     conv5_block3_2_relu[0][0]        \n",
      "__________________________________________________________________________________________________\n",
      "conv5_block3_3_bn (BatchNormali (None, 4, 3, 2048)   8192        conv5_block3_3_conv[0][0]        \n",
      "__________________________________________________________________________________________________\n",
      "conv5_block3_add (Add)          (None, 4, 3, 2048)   0           conv5_block2_out[0][0]           \n",
      "                                                                 conv5_block3_3_bn[0][0]          \n",
      "__________________________________________________________________________________________________\n",
      "conv5_block3_out (Activation)   (None, 4, 3, 2048)   0           conv5_block3_add[0][0]           \n",
      "__________________________________________________________________________________________________\n",
      "flatten_1 (Flatten)             (None, 24576)        0           conv5_block3_out[0][0]           \n",
      "__________________________________________________________________________________________________\n",
      "dense_1 (Dense)                 (None, 200)          4915400     flatten_1[0][0]                  \n",
      "__________________________________________________________________________________________________\n",
      "dense_2 (Dense)                 (None, 20)           4020        dense_1[0][0]                    \n",
      "==================================================================================================\n",
      "Total params: 28,507,132\n",
      "Trainable params: 4,919,420\n",
      "Non-trainable params: 23,587,712\n",
      "__________________________________________________________________________________________________\n"
     ]
    }
   ],
   "source": [
    "final_model.summary()"
   ]
  },
  {
   "cell_type": "markdown",
   "id": "53700de5",
   "metadata": {},
   "source": [
    "# Run the Training"
   ]
  },
  {
   "cell_type": "code",
   "execution_count": 37,
   "id": "5c6c1268",
   "metadata": {},
   "outputs": [],
   "source": [
    "trainX = trainX.reshape(240,112,92,3)\n",
    "testX = testX.reshape(160,112,92,3)"
   ]
  },
  {
   "cell_type": "code",
   "execution_count": 38,
   "id": "2c92846d",
   "metadata": {},
   "outputs": [],
   "source": [
    "final_model.compile(optimizer='adam',\n",
    "             loss ='categorical_crossentropy', metrics=['accuracy'])"
   ]
  },
  {
   "cell_type": "code",
   "execution_count": 39,
   "id": "43066ad0",
   "metadata": {},
   "outputs": [
    {
     "name": "stdout",
     "output_type": "stream",
     "text": [
      "Epoch 1/20\n",
      "15/15 [==============================] - 9s 586ms/step - loss: 7.0180 - accuracy: 0.4875 - val_loss: 1.5382 - val_accuracy: 0.7563\n",
      "Epoch 2/20\n",
      "15/15 [==============================] - 8s 519ms/step - loss: 0.2959 - accuracy: 0.9250 - val_loss: 0.2988 - val_accuracy: 0.9375\n",
      "Epoch 3/20\n",
      "15/15 [==============================] - 8s 553ms/step - loss: 0.0376 - accuracy: 0.9875 - val_loss: 0.3552 - val_accuracy: 0.9250\n",
      "Epoch 4/20\n",
      "15/15 [==============================] - 8s 519ms/step - loss: 0.0062 - accuracy: 0.9958 - val_loss: 0.3330 - val_accuracy: 0.9438\n",
      "Epoch 5/20\n",
      "15/15 [==============================] - 8s 523ms/step - loss: 2.2444e-04 - accuracy: 1.0000 - val_loss: 0.2562 - val_accuracy: 0.9688\n",
      "Epoch 6/20\n",
      "15/15 [==============================] - 8s 529ms/step - loss: 8.8349e-05 - accuracy: 1.0000 - val_loss: 0.2440 - val_accuracy: 0.9688\n",
      "Epoch 7/20\n",
      "15/15 [==============================] - 8s 534ms/step - loss: 7.7398e-05 - accuracy: 1.0000 - val_loss: 0.2402 - val_accuracy: 0.9688\n",
      "Epoch 8/20\n",
      "15/15 [==============================] - 8s 526ms/step - loss: 6.6379e-05 - accuracy: 1.0000 - val_loss: 0.2386 - val_accuracy: 0.9688\n",
      "Epoch 9/20\n",
      "15/15 [==============================] - 8s 522ms/step - loss: 6.0449e-05 - accuracy: 1.0000 - val_loss: 0.2375 - val_accuracy: 0.9750\n",
      "Epoch 10/20\n",
      "15/15 [==============================] - 8s 523ms/step - loss: 5.3998e-05 - accuracy: 1.0000 - val_loss: 0.2364 - val_accuracy: 0.9750\n",
      "Epoch 11/20\n",
      "15/15 [==============================] - 8s 556ms/step - loss: 4.8187e-05 - accuracy: 1.0000 - val_loss: 0.2354 - val_accuracy: 0.9750\n",
      "Epoch 12/20\n",
      "15/15 [==============================] - 8s 527ms/step - loss: 4.3807e-05 - accuracy: 1.0000 - val_loss: 0.2347 - val_accuracy: 0.9750\n",
      "Epoch 13/20\n",
      "15/15 [==============================] - 8s 527ms/step - loss: 3.9690e-05 - accuracy: 1.0000 - val_loss: 0.2341 - val_accuracy: 0.9750\n",
      "Epoch 14/20\n",
      "15/15 [==============================] - 8s 540ms/step - loss: 3.6672e-05 - accuracy: 1.0000 - val_loss: 0.2333 - val_accuracy: 0.9750\n",
      "Epoch 15/20\n",
      "15/15 [==============================] - 8s 527ms/step - loss: 3.3943e-05 - accuracy: 1.0000 - val_loss: 0.2328 - val_accuracy: 0.9750\n",
      "Epoch 16/20\n",
      "15/15 [==============================] - 8s 527ms/step - loss: 3.1567e-05 - accuracy: 1.0000 - val_loss: 0.2322 - val_accuracy: 0.9750\n",
      "Epoch 17/20\n",
      "15/15 [==============================] - 8s 523ms/step - loss: 2.9510e-05 - accuracy: 1.0000 - val_loss: 0.2317 - val_accuracy: 0.9750\n",
      "Epoch 18/20\n",
      "15/15 [==============================] - 8s 556ms/step - loss: 2.7748e-05 - accuracy: 1.0000 - val_loss: 0.2312 - val_accuracy: 0.9812\n",
      "Epoch 19/20\n",
      "15/15 [==============================] - 8s 532ms/step - loss: 2.6321e-05 - accuracy: 1.0000 - val_loss: 0.2309 - val_accuracy: 0.9812\n",
      "Epoch 20/20\n",
      "15/15 [==============================] - 8s 524ms/step - loss: 2.4783e-05 - accuracy: 1.0000 - val_loss: 0.2304 - val_accuracy: 0.9812\n"
     ]
    },
    {
     "data": {
      "text/plain": [
       "<tensorflow.python.keras.callbacks.History at 0x7f01c50fa350>"
      ]
     },
     "execution_count": 39,
     "metadata": {},
     "output_type": "execute_result"
    }
   ],
   "source": [
    "final_model.fit(trainX, trainY, validation_data=(testX,testY), epochs=20, batch_size =16)"
   ]
  },
  {
   "cell_type": "code",
   "execution_count": 40,
   "id": "ba8eb993",
   "metadata": {},
   "outputs": [],
   "source": [
    "# LR reduction on plateuing for pushing the accuracy further"
   ]
  },
  {
   "cell_type": "code",
   "execution_count": 41,
   "id": "c7e7948b",
   "metadata": {},
   "outputs": [],
   "source": [
    "final_prediction = final_model.predict(testX)\n"
   ]
  },
  {
   "cell_type": "code",
   "execution_count": 42,
   "id": "b4092690",
   "metadata": {},
   "outputs": [
    {
     "data": {
      "text/plain": [
       "(160, 20)"
      ]
     },
     "execution_count": 42,
     "metadata": {},
     "output_type": "execute_result"
    }
   ],
   "source": [
    "final_prediction.shape"
   ]
  },
  {
   "cell_type": "code",
   "execution_count": 47,
   "id": "4b088322",
   "metadata": {},
   "outputs": [
    {
     "name": "stdout",
     "output_type": "stream",
     "text": [
      "No of misclassifications:  3\n"
     ]
    }
   ],
   "source": [
    "print('No of misclassifications: ',((final_prediction.argmax(axis=1))!= testY.argmax(axis=1)).sum())\n"
   ]
  },
  {
   "cell_type": "code",
   "execution_count": 48,
   "id": "6c0855ca",
   "metadata": {},
   "outputs": [
    {
     "data": {
      "text/plain": [
       "array([ 0,  0,  0,  0,  0,  0,  0,  0,  1,  1,  1,  1,  1,  1,  1,  1,  2,\n",
       "        2,  2,  2,  2,  2,  2,  2,  3,  3,  3,  3,  3,  3,  3,  3,  4,  4,\n",
       "        4, 17,  4,  4,  4,  4,  5,  5,  5,  5,  5,  5,  5,  5,  6,  6,  6,\n",
       "        6,  6,  6,  6,  6,  7,  7,  7,  7,  7,  7,  7,  7,  8,  8,  8,  8,\n",
       "        8,  8,  8,  8,  9,  9,  9,  7,  9,  9,  9,  7, 10, 10, 10, 10, 10,\n",
       "       10, 10, 10, 11, 11, 11, 11, 11, 11, 11, 11, 12, 12, 12, 12, 12, 12,\n",
       "       12, 12, 13, 13, 13, 13, 13, 13, 13, 13, 14, 14, 14, 14, 14, 14, 14,\n",
       "       14, 15, 15, 15, 15, 15, 15, 15, 15, 16, 16, 16, 16, 16, 16, 16, 16,\n",
       "       17, 17, 17, 17, 17, 17, 17, 17, 18, 18, 18, 18, 18, 18, 18, 18, 19,\n",
       "       19, 19, 19, 19, 19, 19, 19])"
      ]
     },
     "execution_count": 48,
     "metadata": {},
     "output_type": "execute_result"
    }
   ],
   "source": [
    "final_prediction.argmax(axis=1)"
   ]
  },
  {
   "cell_type": "code",
   "execution_count": 49,
   "id": "4b2c1ac9",
   "metadata": {},
   "outputs": [
    {
     "data": {
      "text/plain": [
       "array([ 0,  0,  0,  0,  0,  0,  0,  0,  1,  1,  1,  1,  1,  1,  1,  1,  2,\n",
       "        2,  2,  2,  2,  2,  2,  2,  3,  3,  3,  3,  3,  3,  3,  3,  4,  4,\n",
       "        4,  4,  4,  4,  4,  4,  5,  5,  5,  5,  5,  5,  5,  5,  6,  6,  6,\n",
       "        6,  6,  6,  6,  6,  7,  7,  7,  7,  7,  7,  7,  7,  8,  8,  8,  8,\n",
       "        8,  8,  8,  8,  9,  9,  9,  9,  9,  9,  9,  9, 10, 10, 10, 10, 10,\n",
       "       10, 10, 10, 11, 11, 11, 11, 11, 11, 11, 11, 12, 12, 12, 12, 12, 12,\n",
       "       12, 12, 13, 13, 13, 13, 13, 13, 13, 13, 14, 14, 14, 14, 14, 14, 14,\n",
       "       14, 15, 15, 15, 15, 15, 15, 15, 15, 16, 16, 16, 16, 16, 16, 16, 16,\n",
       "       17, 17, 17, 17, 17, 17, 17, 17, 18, 18, 18, 18, 18, 18, 18, 18, 19,\n",
       "       19, 19, 19, 19, 19, 19, 19])"
      ]
     },
     "execution_count": 49,
     "metadata": {},
     "output_type": "execute_result"
    }
   ],
   "source": [
    "testY.argmax(axis=1)"
   ]
  },
  {
   "cell_type": "code",
   "execution_count": 51,
   "id": "42920d5c",
   "metadata": {},
   "outputs": [],
   "source": [
    "# LR reduction on plateuing for pushing the accuracy further"
   ]
  },
  {
   "cell_type": "code",
   "execution_count": null,
   "id": "8c929b37",
   "metadata": {},
   "outputs": [],
   "source": []
  }
 ],
 "metadata": {
  "instance_type": "ml.t3.medium",
  "kernelspec": {
   "display_name": "Python 3",
   "language": "python",
   "name": "python3"
  },
  "language_info": {
   "codemirror_mode": {
    "name": "ipython",
    "version": 3
   },
   "file_extension": ".py",
   "mimetype": "text/x-python",
   "name": "python",
   "nbconvert_exporter": "python",
   "pygments_lexer": "ipython3",
   "version": "3.8.8"
  }
 },
 "nbformat": 4,
 "nbformat_minor": 5
}
