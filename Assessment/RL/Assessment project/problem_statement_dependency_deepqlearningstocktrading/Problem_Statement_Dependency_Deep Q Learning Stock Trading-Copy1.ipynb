{
 "cells": [
  {
   "cell_type": "markdown",
   "metadata": {
    "colab_type": "text",
    "id": "fgy74k3DDaf_"
   },
   "source": [
    "#**Stock Trading Using Deep Q-Learning**\n"
   ]
  },
  {
   "cell_type": "markdown",
   "metadata": {
    "colab_type": "text",
    "id": "LW3MPB3pDndR"
   },
   "source": [
    "## **Problem Statement**"
   ]
  },
  {
   "cell_type": "markdown",
   "metadata": {
    "colab_type": "text",
    "id": "FeOMTczqDqdZ"
   },
   "source": [
    "Prepare an agent by implementing Deep Q-Learning that can perform unsupervised trading in stock trade. The aim of this project is to train an agent that uses Q-learning and neural networks to predict the profit or loss by building a model and implementing it on a dataset that is available for evaluation.\n",
    "\n",
    "\n",
    "The stock trading index environment provides the agent with a set of actions:<br>\n",
    "* Buy<br>\n",
    "* Sell<br>\n",
    "* Sit\n",
    "\n",
    "This project has following sections:\n",
    "* Import libraries \n",
    "* Create a DQN agent\n",
    "* Preprocess the data\n",
    "* Train and build the model\n",
    "* Evaluate the model and agent\n",
    "<br><br>\n",
    "\n",
    "**Steps to perform**<br>\n",
    "\n",
    "In the section **create a DQN agent**, create a class called agent where:\n",
    "* Action size is defined as 3\n",
    "* Experience replay memory to deque is 1000\n",
    "* Empty list for stocks that has already been bought\n",
    "* The agent must possess the following hyperparameters:<br>\n",
    "  * gamma= 0.95<br>\n",
    "  * epsilon = 1.0<br>\n",
    "  * epsilon_final = 0.01<br>\n",
    "  * epsilon_decay = 0.995<br>\n",
    "\n",
    "\n",
    "    Note: It is advised to compare the results using different values in hyperparameters.\n",
    "\n",
    "* Neural network has 3 hidden layers\n",
    "* Action and experience replay are defined\n",
    "\n",
    "\n"
   ]
  },
  {
   "cell_type": "markdown",
   "metadata": {
    "colab_type": "text",
    "id": "Lu4reAtsL5EZ"
   },
   "source": [
    "## **Solution**"
   ]
  },
  {
   "cell_type": "markdown",
   "metadata": {
    "colab_type": "text",
    "id": "WBgbvVTRDXpe"
   },
   "source": [
    "### **Import the libraries** "
   ]
  },
  {
   "cell_type": "code",
   "execution_count": 2,
   "metadata": {
    "colab": {},
    "colab_type": "code",
    "id": "zt5QkvOCri3W"
   },
   "outputs": [],
   "source": [
    "import keras\n",
    "from keras.models import Sequential\n",
    "from keras.models import load_model\n",
    "from keras.layers import Dense\n",
    "from keras.optimizers import Adam\n",
    "import numpy as np\n",
    "import random\n",
    "from collections import deque"
   ]
  },
  {
   "cell_type": "code",
   "execution_count": 1,
   "metadata": {},
   "outputs": [],
   "source": [
    "import pandas as pd\n",
    "train_df = pd.read_csv(r'C:\\Users\\yas88\\Desktop\\1. D Folder\\1. AIML, projects\\7.  Reinforcement learning\\Assessment project\\dataset\\GSPC_Training_Dataset.csv')\n",
    "\n",
    "test_df = pd.read_csv(r'C:\\Users\\yas88\\Desktop\\1. D Folder\\1. AIML, projects\\7.  Reinforcement learning\\Assessment project\\dataset\\GSPC_Evaluation_Dataset.csv')"
   ]
  },
  {
   "cell_type": "code",
   "execution_count": 2,
   "metadata": {},
   "outputs": [
    {
     "name": "stdout",
     "output_type": "stream",
     "text": [
      "         Date         Open         High          Low        Close  \\\n",
      "0  2001-01-02  1320.280029  1320.280029  1276.050049  1283.270020   \n",
      "1  2001-01-03  1283.270020  1347.760010  1274.619995  1347.560059   \n",
      "2  2001-01-04  1347.560059  1350.239990  1329.140015  1333.339966   \n",
      "3  2001-01-05  1333.339966  1334.770020  1294.949951  1298.349976   \n",
      "4  2001-01-08  1298.349976  1298.349976  1276.290039  1295.859985   \n",
      "\n",
      "     Adj Close      Volume  \n",
      "0  1283.270020  1129400000  \n",
      "1  1347.560059  1880700000  \n",
      "2  1333.339966  2131000000  \n",
      "3  1298.349976  1430800000  \n",
      "4  1295.859985  1115500000  \n",
      "         Date         Open         High          Low        Close  \\\n",
      "0  2011-01-03  1257.619995  1276.170044  1257.619995  1271.869995   \n",
      "1  2011-01-04  1272.949951  1274.119995  1262.660034  1270.199951   \n",
      "2  2011-01-05  1268.780029  1277.630005  1265.359985  1276.560059   \n",
      "3  2011-01-06  1276.290039  1278.170044  1270.430054  1273.849976   \n",
      "4  2011-01-07  1274.410034  1276.829956  1261.699951  1271.500000   \n",
      "\n",
      "     Adj Close      Volume  \n",
      "0  1271.869995  4286670000  \n",
      "1  1270.199951  4796420000  \n",
      "2  1276.560059  4764920000  \n",
      "3  1273.849976  4844100000  \n",
      "4  1271.500000  4963110000  \n"
     ]
    }
   ],
   "source": [
    "print(train_df.head())\n",
    "print(test_df.head())"
   ]
  },
  {
   "cell_type": "markdown",
   "metadata": {
    "colab_type": "text",
    "id": "behdrRbIDXpj"
   },
   "source": [
    "### **Create a DQN agent**"
   ]
  },
  {
   "cell_type": "markdown",
   "metadata": {
    "colab_type": "text",
    "id": "vrJH6vRmNZQw"
   },
   "source": [
    "**Use the instruction below to prepare an agent**\n"
   ]
  },
  {
   "cell_type": "code",
   "execution_count": 3,
   "metadata": {
    "colab": {},
    "colab_type": "code",
    "id": "w7uHLPJWtNmm"
   },
   "outputs": [],
   "source": [
    "class Agent():\n",
    "    # Action space include 3 actions: Buy, Sell, and Sit\n",
    "    def __init__(self, state_size, is_eval=False, model_name=\"\"):\n",
    "        #normalize the previous days\n",
    "        self.state_size = state_size\n",
    "        \n",
    "        #sit, buy, sell\n",
    "        self.action_size = 3\n",
    "            \n",
    "        #Setting up the experience replay memory to deque with 1000 elements inside it\n",
    "        self.memory = deque(maxlen=1000)\n",
    "        \n",
    "        #Empty list with inventory is created that contains the stocks that were already bought\n",
    "        self.inventory=[]\n",
    "        self.model_name = model_name\n",
    "        self.is_eval = is_eval\n",
    "        \n",
    "        #Setting up gamma to 0.95, that helps to maximize the current reward over the long-term\n",
    "        #Epsilon parameter determines whether to use a random action or to use the model for the action. \n",
    "        #In the beginning random actions are encouraged, hence epsilon is set up to 1.0 when the model is not trained.\n",
    "        #And over time the epsilon is reduced to 0.01 in order to decrease the random actions and use the trained model\n",
    "        #We're then set the speed of decreasing epsililon in the epsilon_decay parameter\n",
    "        self.gamma = 0.95\n",
    "        \n",
    "        self.epsilon = 1.0\n",
    "        self.epsilon_min = 0.01\n",
    "        self.epsilon_decay = 0.995\n",
    "        \n",
    "        self.model = load_model(\"\"+model_name) if is_eval else self._model()\n",
    "        \n",
    "#Defining our neural network\n",
    "#Define the neural network function called _model and it just takes the keyword self\n",
    "#Define the model with Sequential()\n",
    "#Define states i.e. the previous n days and stock prices of the days\n",
    "#Defining 3 hidden layers in this network\n",
    "#Changing the activation function to relu because mean-squared error is used for the loss\n",
    "        def _model(self):\n",
    "            model = Sequential()\n",
    "            model.add(Dense(units=64, input_dim = self.state_size, activation='relu'))\n",
    "            model.add(Dense(units=32, activation='relu'))\n",
    "            model.add(Dense(units=8, activation='relu'))\n",
    "            \n",
    "            model.add(Dense(self.action_size, activation='linear'))\n",
    "            \n",
    "            model.compile(loss = 'mse', optimizer=Adam(lr=0.001))\n",
    "            \n",
    "            return model\n",
    "        \n",
    "        def act(self, state):\n",
    "            if not self.is_eval and np.random.rand() <= self.epsilon:\n",
    "                return random.randrange(self.action_size)\n",
    "            \n",
    "            options = self.model.predict(state)\n",
    "            return np.argmax(options[0])\n",
    "        \n",
    "        def expReplay(self, batch_size):\n",
    "            mini_batch = []\n",
    "            l = len(self.memory)\n",
    "            \n",
    "            for i in range(l-batch_size + 1, l):\n",
    "                mini_batch.append(self.memory[i])\n",
    "                \n",
    "            for state, action, reward, next_state, done in mini_batch:\n",
    "                target = reward\n",
    "                \n",
    "                if not done:\n",
    "                    #amax = return the maximum of an array or maximum along an axis\n",
    "                    target = reward + self.gamma*np.argmax(self.model.predict(next_state[0]))\n",
    "                    \n",
    "                target_f = self.model.predict(state)\n",
    "                target_f[0][action] = target\n",
    "                \n",
    "                self.model.fit(state, target_f, epochs=1, verbose=0)\n",
    "                \n",
    "            if self.epsilon > self.epsilon_min:\n",
    "                self.epsilon *= self.epsilon_decay\n"
   ]
  },
  {
   "cell_type": "markdown",
   "metadata": {
    "colab_type": "text",
    "id": "-nRItH8mDXpm"
   },
   "source": [
    "### **Preprocess the stock market data**"
   ]
  },
  {
   "cell_type": "code",
   "execution_count": 4,
   "metadata": {
    "colab": {},
    "colab_type": "code",
    "id": "e3NGhJubtfet"
   },
   "outputs": [],
   "source": [
    "import math\n",
    "\n",
    "# prints formatted price\n",
    "def formatPrice(n):\n",
    "\treturn (\"-$\" if n < 0 else \"$\") + \"{0:.2f}\".format(abs(n))\n",
    "\n",
    "# returns the vector containing stock data from a fixed file\n",
    "def getStockDataVec(key):\n",
    "\tvec = []\n",
    "\tlines = open(\"\" + key + \".csv\", \"r\").read().splitlines()\n",
    "\n",
    "\tfor line in lines[1:]:\n",
    "\t\tvec.append(float(line.split(\",\")[4]))\n",
    "\n",
    "\treturn vec\n",
    "\n",
    "# returns the sigmoid\n",
    "def sigmoid(x):\n",
    "\treturn 1 / (1 + math.exp(-x))\n",
    "\n",
    "# returns an an n-day state representation ending at time t\n",
    "def getState(data, t, n):\n",
    "\td = t - n + 1\n",
    "\tblock = data[d:t + 1] if d >= 0 else -d * [data[0]] + data[0:t + 1] # pad with t0\n",
    "\tres = []\n",
    "\tfor i in range(n - 1):\n",
    "\t\tres.append(sigmoid(block[i + 1] - block[i]))\n",
    "\n",
    "\treturn np.array([res])\n"
   ]
  },
  {
   "cell_type": "markdown",
   "metadata": {
    "colab_type": "text",
    "id": "b9oHyPgfDXpp"
   },
   "source": [
    "### **Train and build the model**"
   ]
  },
  {
   "cell_type": "code",
   "execution_count": 5,
   "metadata": {
    "colab": {},
    "colab_type": "code",
    "id": "fCqJzkeJtp3n"
   },
   "outputs": [
    {
     "name": "stdout",
     "output_type": "stream",
     "text": [
      "Usage: python train.py [stock] [window] [episodes]\n",
      "Enter stock_name, window_size, Episode_countGSPC_Training_Dataset\n",
      "10\n",
      "100\n"
     ]
    },
    {
     "ename": "AttributeError",
     "evalue": "'Agent' object has no attribute '_model'",
     "output_type": "error",
     "traceback": [
      "\u001b[1;31m---------------------------------------------------------------------------\u001b[0m",
      "\u001b[1;31mAttributeError\u001b[0m                            Traceback (most recent call last)",
      "\u001b[1;32m~\\AppData\\Local\\Temp/ipykernel_1552/3065986649.py\u001b[0m in \u001b[0;36m<module>\u001b[1;34m\u001b[0m\n\u001b[0;32m     18\u001b[0m \u001b[0mepisode_count\u001b[0m \u001b[1;33m=\u001b[0m \u001b[0mint\u001b[0m\u001b[1;33m(\u001b[0m\u001b[0mepisode_count\u001b[0m\u001b[1;33m)\u001b[0m\u001b[1;33m\u001b[0m\u001b[1;33m\u001b[0m\u001b[0m\n\u001b[0;32m     19\u001b[0m \u001b[1;33m\u001b[0m\u001b[0m\n\u001b[1;32m---> 20\u001b[1;33m \u001b[0magent\u001b[0m \u001b[1;33m=\u001b[0m \u001b[0mAgent\u001b[0m\u001b[1;33m(\u001b[0m\u001b[0mwindow_size\u001b[0m\u001b[1;33m)\u001b[0m\u001b[1;33m\u001b[0m\u001b[1;33m\u001b[0m\u001b[0m\n\u001b[0m\u001b[0;32m     21\u001b[0m \u001b[0mdata\u001b[0m \u001b[1;33m=\u001b[0m \u001b[0mgetStockDataVec\u001b[0m\u001b[1;33m(\u001b[0m\u001b[0mstock_name\u001b[0m\u001b[1;33m)\u001b[0m\u001b[1;33m\u001b[0m\u001b[1;33m\u001b[0m\u001b[0m\n\u001b[0;32m     22\u001b[0m \u001b[0ml\u001b[0m \u001b[1;33m=\u001b[0m \u001b[0mlen\u001b[0m\u001b[1;33m(\u001b[0m\u001b[0mdata\u001b[0m\u001b[1;33m)\u001b[0m \u001b[1;33m-\u001b[0m \u001b[1;36m1\u001b[0m\u001b[1;33m\u001b[0m\u001b[1;33m\u001b[0m\u001b[0m\n",
      "\u001b[1;32m~\\AppData\\Local\\Temp/ipykernel_1552/1234578717.py\u001b[0m in \u001b[0;36m__init__\u001b[1;34m(self, state_size, is_eval, model_name)\u001b[0m\n\u001b[0;32m     27\u001b[0m         \u001b[0mself\u001b[0m\u001b[1;33m.\u001b[0m\u001b[0mepsilon_decay\u001b[0m \u001b[1;33m=\u001b[0m \u001b[1;36m0.995\u001b[0m\u001b[1;33m\u001b[0m\u001b[1;33m\u001b[0m\u001b[0m\n\u001b[0;32m     28\u001b[0m \u001b[1;33m\u001b[0m\u001b[0m\n\u001b[1;32m---> 29\u001b[1;33m         \u001b[0mself\u001b[0m\u001b[1;33m.\u001b[0m\u001b[0mmodel\u001b[0m \u001b[1;33m=\u001b[0m \u001b[0mload_model\u001b[0m\u001b[1;33m(\u001b[0m\u001b[1;34m\"\"\u001b[0m\u001b[1;33m+\u001b[0m\u001b[0mmodel_name\u001b[0m\u001b[1;33m)\u001b[0m \u001b[1;32mif\u001b[0m \u001b[0mis_eval\u001b[0m \u001b[1;32melse\u001b[0m \u001b[0mself\u001b[0m\u001b[1;33m.\u001b[0m\u001b[0m_model\u001b[0m\u001b[1;33m(\u001b[0m\u001b[1;33m)\u001b[0m\u001b[1;33m\u001b[0m\u001b[1;33m\u001b[0m\u001b[0m\n\u001b[0m\u001b[0;32m     30\u001b[0m \u001b[1;33m\u001b[0m\u001b[0m\n\u001b[0;32m     31\u001b[0m \u001b[1;31m#Defining our neural network\u001b[0m\u001b[1;33m\u001b[0m\u001b[1;33m\u001b[0m\u001b[1;33m\u001b[0m\u001b[0m\n",
      "\u001b[1;31mAttributeError\u001b[0m: 'Agent' object has no attribute '_model'"
     ]
    }
   ],
   "source": [
    "import sys\n",
    "\n",
    "if len(sys.argv) != 4:\n",
    "\tprint (\"Usage: python train.py [stock] [window] [episodes]\")\n",
    "\texit()\n",
    "\n",
    "\n",
    "stock_name = input(\"Enter stock_name, window_size, Episode_count\")\n",
    "#Fill the given information when prompted: \n",
    "#Enter stock_name = GSPC_Training_Dataset\n",
    "#window_size = 10\n",
    "#Episode_count = 100 or it can be 10 or 20 or 30 and so on.\n",
    "\n",
    "window_size = input()\n",
    "episode_count = input()\n",
    "stock_name = str(stock_name)\n",
    "window_size = int(window_size)\n",
    "episode_count = int(episode_count)\n",
    "\n",
    "agent = Agent(window_size)\n",
    "data = getStockDataVec(stock_name)\n",
    "l = len(data) - 1\n",
    "batch_size = 32\n",
    "\n",
    "for e in range(episode_count + 1):\n",
    "\tprint (\"Episode \" + str(e) + \"/\" + str(episode_count))\n",
    "\tstate = getState(data, 0, window_size + 1)\n",
    "\n",
    "\ttotal_profit = 0\n",
    "\tagent.inventory = []\n",
    "\n",
    "\tfor t in range(l):\n",
    "\t\taction = agent.act(state)\n",
    "\n",
    "\t\t# sit\n",
    "\t\tnext_state = getState(data, t + 1, window_size + 1)\n",
    "\t\treward = 0\n",
    "\n",
    "\t\tif action == 1: # buy\n",
    "\t\t\tagent.inventory.append(data[t])\n",
    "\t\t\tprint (\"Buy: \" + formatPrice(data[t]))\n",
    "\n",
    "\t\telif action == 2 and len(agent.inventory) > 0: # sell\n",
    "\t\t\tbought_price = agent.inventory.pop(0)\n",
    "\t\t\treward = max(data[t] - bought_price, 0)\n",
    "\t\t\ttotal_profit += data[t] - bought_price\n",
    "\t\t\tprint (\"Sell: \" + formatPrice(data[t]) + \" | Profit: \" + formatPrice(data[t] - bought_price))\n",
    "\n",
    "\t\tdone = True if t == l - 1 else False\n",
    "\t\tagent.memory.append((state, action, reward, next_state, done))\n",
    "\t\tstate = next_state\n",
    "\n",
    "\t\tif done:\n",
    "\t\t\tprint (\"--------------------------------\")\n",
    "\t\t\tprint (\"Total Profit: \" + formatPrice(total_profit))\n",
    "\t\t\t\n",
    "\n",
    "\t\tif len(agent.memory) > batch_size:\n",
    "\t\t\tagent.expReplay(batch_size)\n",
    "\n",
    "\t#if e % 10 == 0:\n",
    "\t\tagent.model.save(\"model_ep\" + str(e))"
   ]
  },
  {
   "cell_type": "markdown",
   "metadata": {
    "colab_type": "text",
    "id": "UcXCrJUSDXpr"
   },
   "source": [
    "### **Evaluate the model and agent**"
   ]
  },
  {
   "cell_type": "code",
   "execution_count": null,
   "metadata": {
    "colab": {},
    "colab_type": "code",
    "id": "lmZUVXe5t95k"
   },
   "outputs": [],
   "source": [
    "import sys\n",
    "from keras.models import load_model\n",
    "\n",
    "\n",
    "if len(sys.argv) != 3:\n",
    "\tprint (\"Usage: python evaluate.py [stock] [model]\")\n",
    "\texit()\n",
    "\n",
    "\n",
    "stock_name = input(\"Enter Stock_name, Model_name\")\n",
    "model_name = input()\n",
    "#Note: \n",
    "#Fill the given information when prompted: \n",
    "#Enter stock_name = GSPC_Evaluation_Dataset\n",
    "#Model_name = respective model name\n",
    "\n",
    "model = load_model(\"\" + model_name)\n",
    "window_size = model.layers[0].input.shape.as_list()[1]\n",
    "\n",
    "agent = Agent(window_size, True, model_name)\n",
    "data = getStockDataVec(stock_name)\n",
    "l = len(data) - 1\n",
    "batch_size = 32\n",
    "\n",
    "state = getState(data, 0, window_size + 1)\n",
    "total_profit = 0\n",
    "agent.inventory = []\n",
    "\n",
    "for t in range(l):\n",
    "\taction = agent.act(state)\n",
    "\n",
    "\t# sit\n",
    "\tnext_state = getState(data, t + 1, window_size + 1)\n",
    "\treward = 0\n",
    "\n",
    "\tif action == 1: # buy\n",
    "\t\tagent.inventory.append(data[t])\n",
    "\t\tprint (\"Buy: \" + formatPrice(data[t]))\n",
    "\n",
    "\telif action == 2 and len(agent.inventory) > 0: # sell\n",
    "\t\tbought_price = agent.inventory.pop(0)\n",
    "\t\treward = max(data[t] - bought_price, 0)\n",
    "\t\ttotal_profit += data[t] - bought_price\n",
    "\t\tprint (\"Sell: \" + formatPrice(data[t]) + \" | Profit: \" + formatPrice(data[t] - bought_price))\n",
    "\n",
    "\tdone = True if t == l - 1 else False\n",
    "\tagent.memory.append((state, action, reward, next_state, done))\n",
    "\tstate = next_state\n",
    "\n",
    "\tif done:\n",
    "\t\tprint (\"--------------------------------\")\n",
    "\t\tprint (stock_name + \" Total Profit: \" + formatPrice(total_profit))\n",
    "\n"
   ]
  },
  {
   "cell_type": "markdown",
   "metadata": {
    "colab_type": "text",
    "id": "aIolgCRWSM-9"
   },
   "source": [
    "**Note: Run the training section for considerable episodes so that while evaluating the model it can generate significant profit.** \n"
   ]
  }
 ],
 "metadata": {
  "colab": {
   "collapsed_sections": [],
   "name": "Problem_Statement_Dependency_Deep Q Learning Stock Trading_CEP_2.ipynb",
   "private_outputs": true,
   "provenance": []
  },
  "kernelspec": {
   "display_name": "Python 3 (ipykernel)",
   "language": "python",
   "name": "python3"
  },
  "language_info": {
   "codemirror_mode": {
    "name": "ipython",
    "version": 3
   },
   "file_extension": ".py",
   "mimetype": "text/x-python",
   "name": "python",
   "nbconvert_exporter": "python",
   "pygments_lexer": "ipython3",
   "version": "3.8.11"
  }
 },
 "nbformat": 4,
 "nbformat_minor": 1
}
